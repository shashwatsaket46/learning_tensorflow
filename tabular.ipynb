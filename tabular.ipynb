{
 "cells": [
  {
   "cell_type": "code",
   "execution_count": 1,
   "id": "0a7c00b3",
   "metadata": {
    "_cell_guid": "b1076dfc-b9ad-4769-8c92-a6c4dae69d19",
    "_uuid": "8f2839f25d086af736a60e9eeb907d3b93b6e0e5",
    "execution": {
     "iopub.execute_input": "2022-07-22T21:13:16.056998Z",
     "iopub.status.busy": "2022-07-22T21:13:16.056563Z",
     "iopub.status.idle": "2022-07-22T21:13:16.068061Z",
     "shell.execute_reply": "2022-07-22T21:13:16.067054Z"
    },
    "papermill": {
     "duration": 0.024117,
     "end_time": "2022-07-22T21:13:16.070388",
     "exception": false,
     "start_time": "2022-07-22T21:13:16.046271",
     "status": "completed"
    },
    "tags": []
   },
   "outputs": [],
   "source": [
    "import numpy as np\n",
    "import pandas as pd"
   ]
  },
  {
   "cell_type": "code",
   "execution_count": 2,
   "id": "c6dbc07a",
   "metadata": {
    "execution": {
     "iopub.execute_input": "2022-07-22T21:13:16.086248Z",
     "iopub.status.busy": "2022-07-22T21:13:16.085533Z",
     "iopub.status.idle": "2022-07-22T21:13:23.514127Z",
     "shell.execute_reply": "2022-07-22T21:13:23.512829Z"
    },
    "papermill": {
     "duration": 7.439499,
     "end_time": "2022-07-22T21:13:23.516902",
     "exception": false,
     "start_time": "2022-07-22T21:13:16.077403",
     "status": "completed"
    },
    "tags": []
   },
   "outputs": [],
   "source": [
    "from sklearn.preprocessing import MinMaxScaler,PowerTransformer,RobustScaler,PolynomialFeatures\n",
    "from sklearn.model_selection import train_test_split\n",
    "from sklearn.decomposition import PCA\n",
    "from sklearn.mixture import BayesianGaussianMixture\n",
    "from sklearn.cluster import DBSCAN,KMeans\n",
    "from sklearn.metrics import silhouette_score\n",
    "from tqdm import tqdm\n",
    "import keras\n",
    "import tensorflow as tf\n",
    "import matplotlib.pyplot as plt"
   ]
  },
  {
   "cell_type": "code",
   "execution_count": 3,
   "id": "e968ec07",
   "metadata": {
    "execution": {
     "iopub.execute_input": "2022-07-22T21:13:23.533213Z",
     "iopub.status.busy": "2022-07-22T21:13:23.532538Z",
     "iopub.status.idle": "2022-07-22T21:13:24.897973Z",
     "shell.execute_reply": "2022-07-22T21:13:24.896844Z"
    },
    "papermill": {
     "duration": 1.376811,
     "end_time": "2022-07-22T21:13:24.901003",
     "exception": false,
     "start_time": "2022-07-22T21:13:23.524192",
     "status": "completed"
    },
    "tags": []
   },
   "outputs": [],
   "source": [
    "train=pd.read_csv('../input/tabular-playground-series-jul-2022/data.csv')"
   ]
  },
  {
   "cell_type": "code",
   "execution_count": 4,
   "id": "5c9a019a",
   "metadata": {
    "execution": {
     "iopub.execute_input": "2022-07-22T21:13:24.917639Z",
     "iopub.status.busy": "2022-07-22T21:13:24.916663Z",
     "iopub.status.idle": "2022-07-22T21:13:24.960971Z",
     "shell.execute_reply": "2022-07-22T21:13:24.959868Z"
    },
    "papermill": {
     "duration": 0.05551,
     "end_time": "2022-07-22T21:13:24.963867",
     "exception": false,
     "start_time": "2022-07-22T21:13:24.908357",
     "status": "completed"
    },
    "tags": []
   },
   "outputs": [
    {
     "data": {
      "text/html": [
       "<div>\n",
       "<style scoped>\n",
       "    .dataframe tbody tr th:only-of-type {\n",
       "        vertical-align: middle;\n",
       "    }\n",
       "\n",
       "    .dataframe tbody tr th {\n",
       "        vertical-align: top;\n",
       "    }\n",
       "\n",
       "    .dataframe thead th {\n",
       "        text-align: right;\n",
       "    }\n",
       "</style>\n",
       "<table border=\"1\" class=\"dataframe\">\n",
       "  <thead>\n",
       "    <tr style=\"text-align: right;\">\n",
       "      <th></th>\n",
       "      <th>id</th>\n",
       "      <th>f_00</th>\n",
       "      <th>f_01</th>\n",
       "      <th>f_02</th>\n",
       "      <th>f_03</th>\n",
       "      <th>f_04</th>\n",
       "      <th>f_05</th>\n",
       "      <th>f_06</th>\n",
       "      <th>f_07</th>\n",
       "      <th>f_08</th>\n",
       "      <th>...</th>\n",
       "      <th>f_19</th>\n",
       "      <th>f_20</th>\n",
       "      <th>f_21</th>\n",
       "      <th>f_22</th>\n",
       "      <th>f_23</th>\n",
       "      <th>f_24</th>\n",
       "      <th>f_25</th>\n",
       "      <th>f_26</th>\n",
       "      <th>f_27</th>\n",
       "      <th>f_28</th>\n",
       "    </tr>\n",
       "  </thead>\n",
       "  <tbody>\n",
       "    <tr>\n",
       "      <th>0</th>\n",
       "      <td>0</td>\n",
       "      <td>-0.389420</td>\n",
       "      <td>-0.912791</td>\n",
       "      <td>0.648951</td>\n",
       "      <td>0.589045</td>\n",
       "      <td>-0.830817</td>\n",
       "      <td>0.733624</td>\n",
       "      <td>2.258560</td>\n",
       "      <td>2</td>\n",
       "      <td>13</td>\n",
       "      <td>...</td>\n",
       "      <td>-0.478412</td>\n",
       "      <td>-0.757002</td>\n",
       "      <td>-0.763635</td>\n",
       "      <td>-1.090369</td>\n",
       "      <td>1.142641</td>\n",
       "      <td>-0.884274</td>\n",
       "      <td>1.137896</td>\n",
       "      <td>1.309073</td>\n",
       "      <td>1.463002</td>\n",
       "      <td>0.813527</td>\n",
       "    </tr>\n",
       "    <tr>\n",
       "      <th>1</th>\n",
       "      <td>1</td>\n",
       "      <td>-0.689249</td>\n",
       "      <td>-0.453954</td>\n",
       "      <td>0.654175</td>\n",
       "      <td>0.995248</td>\n",
       "      <td>-1.653020</td>\n",
       "      <td>0.863810</td>\n",
       "      <td>-0.090651</td>\n",
       "      <td>2</td>\n",
       "      <td>3</td>\n",
       "      <td>...</td>\n",
       "      <td>-0.428791</td>\n",
       "      <td>-0.089908</td>\n",
       "      <td>-1.784204</td>\n",
       "      <td>-0.839474</td>\n",
       "      <td>0.459685</td>\n",
       "      <td>1.759412</td>\n",
       "      <td>-0.275422</td>\n",
       "      <td>-0.852168</td>\n",
       "      <td>0.562457</td>\n",
       "      <td>-2.680541</td>\n",
       "    </tr>\n",
       "    <tr>\n",
       "      <th>2</th>\n",
       "      <td>2</td>\n",
       "      <td>0.809079</td>\n",
       "      <td>0.324568</td>\n",
       "      <td>-1.170602</td>\n",
       "      <td>-0.624491</td>\n",
       "      <td>0.105448</td>\n",
       "      <td>0.783948</td>\n",
       "      <td>1.988301</td>\n",
       "      <td>5</td>\n",
       "      <td>11</td>\n",
       "      <td>...</td>\n",
       "      <td>-0.413534</td>\n",
       "      <td>-1.602377</td>\n",
       "      <td>1.190984</td>\n",
       "      <td>3.267116</td>\n",
       "      <td>-0.088322</td>\n",
       "      <td>-2.168635</td>\n",
       "      <td>-0.974989</td>\n",
       "      <td>1.335763</td>\n",
       "      <td>-1.110655</td>\n",
       "      <td>-3.630723</td>\n",
       "    </tr>\n",
       "    <tr>\n",
       "      <th>3</th>\n",
       "      <td>3</td>\n",
       "      <td>-0.500923</td>\n",
       "      <td>0.229049</td>\n",
       "      <td>0.264109</td>\n",
       "      <td>0.231520</td>\n",
       "      <td>0.415012</td>\n",
       "      <td>-1.221269</td>\n",
       "      <td>0.138850</td>\n",
       "      <td>6</td>\n",
       "      <td>2</td>\n",
       "      <td>...</td>\n",
       "      <td>0.619283</td>\n",
       "      <td>1.287801</td>\n",
       "      <td>0.532837</td>\n",
       "      <td>1.036631</td>\n",
       "      <td>-2.041828</td>\n",
       "      <td>1.440490</td>\n",
       "      <td>-1.900191</td>\n",
       "      <td>-0.630771</td>\n",
       "      <td>-0.050641</td>\n",
       "      <td>0.238333</td>\n",
       "    </tr>\n",
       "    <tr>\n",
       "      <th>4</th>\n",
       "      <td>4</td>\n",
       "      <td>-0.671268</td>\n",
       "      <td>-1.039533</td>\n",
       "      <td>-0.270155</td>\n",
       "      <td>-1.830264</td>\n",
       "      <td>-0.290108</td>\n",
       "      <td>-1.852809</td>\n",
       "      <td>0.781898</td>\n",
       "      <td>8</td>\n",
       "      <td>7</td>\n",
       "      <td>...</td>\n",
       "      <td>-1.628830</td>\n",
       "      <td>-0.434948</td>\n",
       "      <td>0.322505</td>\n",
       "      <td>0.284326</td>\n",
       "      <td>-2.438365</td>\n",
       "      <td>1.473930</td>\n",
       "      <td>-1.044684</td>\n",
       "      <td>1.602686</td>\n",
       "      <td>-0.405263</td>\n",
       "      <td>-1.987263</td>\n",
       "    </tr>\n",
       "  </tbody>\n",
       "</table>\n",
       "<p>5 rows × 30 columns</p>\n",
       "</div>"
      ],
      "text/plain": [
       "   id      f_00      f_01      f_02      f_03      f_04      f_05      f_06  \\\n",
       "0   0 -0.389420 -0.912791  0.648951  0.589045 -0.830817  0.733624  2.258560   \n",
       "1   1 -0.689249 -0.453954  0.654175  0.995248 -1.653020  0.863810 -0.090651   \n",
       "2   2  0.809079  0.324568 -1.170602 -0.624491  0.105448  0.783948  1.988301   \n",
       "3   3 -0.500923  0.229049  0.264109  0.231520  0.415012 -1.221269  0.138850   \n",
       "4   4 -0.671268 -1.039533 -0.270155 -1.830264 -0.290108 -1.852809  0.781898   \n",
       "\n",
       "   f_07  f_08  ...      f_19      f_20      f_21      f_22      f_23  \\\n",
       "0     2    13  ... -0.478412 -0.757002 -0.763635 -1.090369  1.142641   \n",
       "1     2     3  ... -0.428791 -0.089908 -1.784204 -0.839474  0.459685   \n",
       "2     5    11  ... -0.413534 -1.602377  1.190984  3.267116 -0.088322   \n",
       "3     6     2  ...  0.619283  1.287801  0.532837  1.036631 -2.041828   \n",
       "4     8     7  ... -1.628830 -0.434948  0.322505  0.284326 -2.438365   \n",
       "\n",
       "       f_24      f_25      f_26      f_27      f_28  \n",
       "0 -0.884274  1.137896  1.309073  1.463002  0.813527  \n",
       "1  1.759412 -0.275422 -0.852168  0.562457 -2.680541  \n",
       "2 -2.168635 -0.974989  1.335763 -1.110655 -3.630723  \n",
       "3  1.440490 -1.900191 -0.630771 -0.050641  0.238333  \n",
       "4  1.473930 -1.044684  1.602686 -0.405263 -1.987263  \n",
       "\n",
       "[5 rows x 30 columns]"
      ]
     },
     "execution_count": 4,
     "metadata": {},
     "output_type": "execute_result"
    }
   ],
   "source": [
    "traina=train.copy()\n",
    "traina.head()"
   ]
  },
  {
   "cell_type": "code",
   "execution_count": 5,
   "id": "aa6ad063",
   "metadata": {
    "execution": {
     "iopub.execute_input": "2022-07-22T21:13:24.980712Z",
     "iopub.status.busy": "2022-07-22T21:13:24.979975Z",
     "iopub.status.idle": "2022-07-22T21:13:24.986718Z",
     "shell.execute_reply": "2022-07-22T21:13:24.985882Z"
    },
    "papermill": {
     "duration": 0.017571,
     "end_time": "2022-07-22T21:13:24.988773",
     "exception": false,
     "start_time": "2022-07-22T21:13:24.971202",
     "status": "completed"
    },
    "tags": []
   },
   "outputs": [
    {
     "data": {
      "text/plain": [
       "(98000, 30)"
      ]
     },
     "execution_count": 5,
     "metadata": {},
     "output_type": "execute_result"
    }
   ],
   "source": [
    "traina.shape"
   ]
  },
  {
   "cell_type": "code",
   "execution_count": 6,
   "id": "d84c1a66",
   "metadata": {
    "execution": {
     "iopub.execute_input": "2022-07-22T21:13:25.005106Z",
     "iopub.status.busy": "2022-07-22T21:13:25.004687Z",
     "iopub.status.idle": "2022-07-22T21:13:25.035837Z",
     "shell.execute_reply": "2022-07-22T21:13:25.034670Z"
    },
    "papermill": {
     "duration": 0.043587,
     "end_time": "2022-07-22T21:13:25.039512",
     "exception": false,
     "start_time": "2022-07-22T21:13:24.995925",
     "status": "completed"
    },
    "tags": []
   },
   "outputs": [
    {
     "name": "stdout",
     "output_type": "stream",
     "text": [
      "<class 'pandas.core.frame.DataFrame'>\n",
      "RangeIndex: 98000 entries, 0 to 97999\n",
      "Data columns (total 30 columns):\n",
      " #   Column  Non-Null Count  Dtype  \n",
      "---  ------  --------------  -----  \n",
      " 0   id      98000 non-null  int64  \n",
      " 1   f_00    98000 non-null  float64\n",
      " 2   f_01    98000 non-null  float64\n",
      " 3   f_02    98000 non-null  float64\n",
      " 4   f_03    98000 non-null  float64\n",
      " 5   f_04    98000 non-null  float64\n",
      " 6   f_05    98000 non-null  float64\n",
      " 7   f_06    98000 non-null  float64\n",
      " 8   f_07    98000 non-null  int64  \n",
      " 9   f_08    98000 non-null  int64  \n",
      " 10  f_09    98000 non-null  int64  \n",
      " 11  f_10    98000 non-null  int64  \n",
      " 12  f_11    98000 non-null  int64  \n",
      " 13  f_12    98000 non-null  int64  \n",
      " 14  f_13    98000 non-null  int64  \n",
      " 15  f_14    98000 non-null  float64\n",
      " 16  f_15    98000 non-null  float64\n",
      " 17  f_16    98000 non-null  float64\n",
      " 18  f_17    98000 non-null  float64\n",
      " 19  f_18    98000 non-null  float64\n",
      " 20  f_19    98000 non-null  float64\n",
      " 21  f_20    98000 non-null  float64\n",
      " 22  f_21    98000 non-null  float64\n",
      " 23  f_22    98000 non-null  float64\n",
      " 24  f_23    98000 non-null  float64\n",
      " 25  f_24    98000 non-null  float64\n",
      " 26  f_25    98000 non-null  float64\n",
      " 27  f_26    98000 non-null  float64\n",
      " 28  f_27    98000 non-null  float64\n",
      " 29  f_28    98000 non-null  float64\n",
      "dtypes: float64(22), int64(8)\n",
      "memory usage: 22.4 MB\n"
     ]
    }
   ],
   "source": [
    "traina.info()"
   ]
  },
  {
   "cell_type": "code",
   "execution_count": 7,
   "id": "5d9ca485",
   "metadata": {
    "execution": {
     "iopub.execute_input": "2022-07-22T21:13:25.057351Z",
     "iopub.status.busy": "2022-07-22T21:13:25.056687Z",
     "iopub.status.idle": "2022-07-22T21:13:25.070364Z",
     "shell.execute_reply": "2022-07-22T21:13:25.069356Z"
    },
    "papermill": {
     "duration": 0.02513,
     "end_time": "2022-07-22T21:13:25.072847",
     "exception": false,
     "start_time": "2022-07-22T21:13:25.047717",
     "status": "completed"
    },
    "tags": []
   },
   "outputs": [],
   "source": [
    "train.drop(['id'],inplace=True,axis=1)"
   ]
  },
  {
   "cell_type": "code",
   "execution_count": 8,
   "id": "69ddfca1",
   "metadata": {
    "execution": {
     "iopub.execute_input": "2022-07-22T21:13:25.090034Z",
     "iopub.status.busy": "2022-07-22T21:13:25.089368Z",
     "iopub.status.idle": "2022-07-22T21:13:25.113346Z",
     "shell.execute_reply": "2022-07-22T21:13:25.112121Z"
    },
    "papermill": {
     "duration": 0.035661,
     "end_time": "2022-07-22T21:13:25.116016",
     "exception": false,
     "start_time": "2022-07-22T21:13:25.080355",
     "status": "completed"
    },
    "tags": []
   },
   "outputs": [
    {
     "data": {
      "text/html": [
       "<div>\n",
       "<style scoped>\n",
       "    .dataframe tbody tr th:only-of-type {\n",
       "        vertical-align: middle;\n",
       "    }\n",
       "\n",
       "    .dataframe tbody tr th {\n",
       "        vertical-align: top;\n",
       "    }\n",
       "\n",
       "    .dataframe thead th {\n",
       "        text-align: right;\n",
       "    }\n",
       "</style>\n",
       "<table border=\"1\" class=\"dataframe\">\n",
       "  <thead>\n",
       "    <tr style=\"text-align: right;\">\n",
       "      <th></th>\n",
       "      <th>f_00</th>\n",
       "      <th>f_01</th>\n",
       "      <th>f_02</th>\n",
       "      <th>f_03</th>\n",
       "      <th>f_04</th>\n",
       "      <th>f_05</th>\n",
       "      <th>f_06</th>\n",
       "      <th>f_07</th>\n",
       "      <th>f_08</th>\n",
       "      <th>f_09</th>\n",
       "      <th>...</th>\n",
       "      <th>f_19</th>\n",
       "      <th>f_20</th>\n",
       "      <th>f_21</th>\n",
       "      <th>f_22</th>\n",
       "      <th>f_23</th>\n",
       "      <th>f_24</th>\n",
       "      <th>f_25</th>\n",
       "      <th>f_26</th>\n",
       "      <th>f_27</th>\n",
       "      <th>f_28</th>\n",
       "    </tr>\n",
       "  </thead>\n",
       "  <tbody>\n",
       "    <tr>\n",
       "      <th>0</th>\n",
       "      <td>-0.389420</td>\n",
       "      <td>-0.912791</td>\n",
       "      <td>0.648951</td>\n",
       "      <td>0.589045</td>\n",
       "      <td>-0.830817</td>\n",
       "      <td>0.733624</td>\n",
       "      <td>2.258560</td>\n",
       "      <td>2</td>\n",
       "      <td>13</td>\n",
       "      <td>14</td>\n",
       "      <td>...</td>\n",
       "      <td>-0.478412</td>\n",
       "      <td>-0.757002</td>\n",
       "      <td>-0.763635</td>\n",
       "      <td>-1.090369</td>\n",
       "      <td>1.142641</td>\n",
       "      <td>-0.884274</td>\n",
       "      <td>1.137896</td>\n",
       "      <td>1.309073</td>\n",
       "      <td>1.463002</td>\n",
       "      <td>0.813527</td>\n",
       "    </tr>\n",
       "    <tr>\n",
       "      <th>1</th>\n",
       "      <td>-0.689249</td>\n",
       "      <td>-0.453954</td>\n",
       "      <td>0.654175</td>\n",
       "      <td>0.995248</td>\n",
       "      <td>-1.653020</td>\n",
       "      <td>0.863810</td>\n",
       "      <td>-0.090651</td>\n",
       "      <td>2</td>\n",
       "      <td>3</td>\n",
       "      <td>6</td>\n",
       "      <td>...</td>\n",
       "      <td>-0.428791</td>\n",
       "      <td>-0.089908</td>\n",
       "      <td>-1.784204</td>\n",
       "      <td>-0.839474</td>\n",
       "      <td>0.459685</td>\n",
       "      <td>1.759412</td>\n",
       "      <td>-0.275422</td>\n",
       "      <td>-0.852168</td>\n",
       "      <td>0.562457</td>\n",
       "      <td>-2.680541</td>\n",
       "    </tr>\n",
       "    <tr>\n",
       "      <th>2</th>\n",
       "      <td>0.809079</td>\n",
       "      <td>0.324568</td>\n",
       "      <td>-1.170602</td>\n",
       "      <td>-0.624491</td>\n",
       "      <td>0.105448</td>\n",
       "      <td>0.783948</td>\n",
       "      <td>1.988301</td>\n",
       "      <td>5</td>\n",
       "      <td>11</td>\n",
       "      <td>5</td>\n",
       "      <td>...</td>\n",
       "      <td>-0.413534</td>\n",
       "      <td>-1.602377</td>\n",
       "      <td>1.190984</td>\n",
       "      <td>3.267116</td>\n",
       "      <td>-0.088322</td>\n",
       "      <td>-2.168635</td>\n",
       "      <td>-0.974989</td>\n",
       "      <td>1.335763</td>\n",
       "      <td>-1.110655</td>\n",
       "      <td>-3.630723</td>\n",
       "    </tr>\n",
       "    <tr>\n",
       "      <th>3</th>\n",
       "      <td>-0.500923</td>\n",
       "      <td>0.229049</td>\n",
       "      <td>0.264109</td>\n",
       "      <td>0.231520</td>\n",
       "      <td>0.415012</td>\n",
       "      <td>-1.221269</td>\n",
       "      <td>0.138850</td>\n",
       "      <td>6</td>\n",
       "      <td>2</td>\n",
       "      <td>13</td>\n",
       "      <td>...</td>\n",
       "      <td>0.619283</td>\n",
       "      <td>1.287801</td>\n",
       "      <td>0.532837</td>\n",
       "      <td>1.036631</td>\n",
       "      <td>-2.041828</td>\n",
       "      <td>1.440490</td>\n",
       "      <td>-1.900191</td>\n",
       "      <td>-0.630771</td>\n",
       "      <td>-0.050641</td>\n",
       "      <td>0.238333</td>\n",
       "    </tr>\n",
       "    <tr>\n",
       "      <th>4</th>\n",
       "      <td>-0.671268</td>\n",
       "      <td>-1.039533</td>\n",
       "      <td>-0.270155</td>\n",
       "      <td>-1.830264</td>\n",
       "      <td>-0.290108</td>\n",
       "      <td>-1.852809</td>\n",
       "      <td>0.781898</td>\n",
       "      <td>8</td>\n",
       "      <td>7</td>\n",
       "      <td>5</td>\n",
       "      <td>...</td>\n",
       "      <td>-1.628830</td>\n",
       "      <td>-0.434948</td>\n",
       "      <td>0.322505</td>\n",
       "      <td>0.284326</td>\n",
       "      <td>-2.438365</td>\n",
       "      <td>1.473930</td>\n",
       "      <td>-1.044684</td>\n",
       "      <td>1.602686</td>\n",
       "      <td>-0.405263</td>\n",
       "      <td>-1.987263</td>\n",
       "    </tr>\n",
       "  </tbody>\n",
       "</table>\n",
       "<p>5 rows × 29 columns</p>\n",
       "</div>"
      ],
      "text/plain": [
       "       f_00      f_01      f_02      f_03      f_04      f_05      f_06  f_07  \\\n",
       "0 -0.389420 -0.912791  0.648951  0.589045 -0.830817  0.733624  2.258560     2   \n",
       "1 -0.689249 -0.453954  0.654175  0.995248 -1.653020  0.863810 -0.090651     2   \n",
       "2  0.809079  0.324568 -1.170602 -0.624491  0.105448  0.783948  1.988301     5   \n",
       "3 -0.500923  0.229049  0.264109  0.231520  0.415012 -1.221269  0.138850     6   \n",
       "4 -0.671268 -1.039533 -0.270155 -1.830264 -0.290108 -1.852809  0.781898     8   \n",
       "\n",
       "   f_08  f_09  ...      f_19      f_20      f_21      f_22      f_23  \\\n",
       "0    13    14  ... -0.478412 -0.757002 -0.763635 -1.090369  1.142641   \n",
       "1     3     6  ... -0.428791 -0.089908 -1.784204 -0.839474  0.459685   \n",
       "2    11     5  ... -0.413534 -1.602377  1.190984  3.267116 -0.088322   \n",
       "3     2    13  ...  0.619283  1.287801  0.532837  1.036631 -2.041828   \n",
       "4     7     5  ... -1.628830 -0.434948  0.322505  0.284326 -2.438365   \n",
       "\n",
       "       f_24      f_25      f_26      f_27      f_28  \n",
       "0 -0.884274  1.137896  1.309073  1.463002  0.813527  \n",
       "1  1.759412 -0.275422 -0.852168  0.562457 -2.680541  \n",
       "2 -2.168635 -0.974989  1.335763 -1.110655 -3.630723  \n",
       "3  1.440490 -1.900191 -0.630771 -0.050641  0.238333  \n",
       "4  1.473930 -1.044684  1.602686 -0.405263 -1.987263  \n",
       "\n",
       "[5 rows x 29 columns]"
      ]
     },
     "execution_count": 8,
     "metadata": {},
     "output_type": "execute_result"
    }
   ],
   "source": [
    "train.head()"
   ]
  },
  {
   "cell_type": "code",
   "execution_count": 9,
   "id": "d00845e4",
   "metadata": {
    "execution": {
     "iopub.execute_input": "2022-07-22T21:13:25.134311Z",
     "iopub.status.busy": "2022-07-22T21:13:25.133307Z",
     "iopub.status.idle": "2022-07-22T21:13:25.623955Z",
     "shell.execute_reply": "2022-07-22T21:13:25.622799Z"
    },
    "papermill": {
     "duration": 0.502578,
     "end_time": "2022-07-22T21:13:25.626397",
     "exception": false,
     "start_time": "2022-07-22T21:13:25.123819",
     "status": "completed"
    },
    "tags": []
   },
   "outputs": [
    {
     "data": {
      "text/plain": [
       "(98000, 464)"
      ]
     },
     "execution_count": 9,
     "metadata": {},
     "output_type": "execute_result"
    }
   ],
   "source": [
    "polynomial_features=PolynomialFeatures(include_bias=False)\n",
    "train=polynomial_features.fit_transform(train)\n",
    "train.shape\n"
   ]
  },
  {
   "cell_type": "code",
   "execution_count": 10,
   "id": "7ae23a80",
   "metadata": {
    "execution": {
     "iopub.execute_input": "2022-07-22T21:13:25.644198Z",
     "iopub.status.busy": "2022-07-22T21:13:25.643776Z",
     "iopub.status.idle": "2022-07-22T21:13:25.648483Z",
     "shell.execute_reply": "2022-07-22T21:13:25.647450Z"
    },
    "papermill": {
     "duration": 0.016064,
     "end_time": "2022-07-22T21:13:25.650711",
     "exception": false,
     "start_time": "2022-07-22T21:13:25.634647",
     "status": "completed"
    },
    "tags": []
   },
   "outputs": [],
   "source": [
    "# def coll(x:pd.DataFrame,bound:float):\n",
    "#     xCorr=x.corr()\n",
    "#     xFiltered = xCorr[((xCorr >= bound) | (xCorr <= -bound)) & (xCorr !=1.000)]\n",
    "#     xFlattened=xFiltered.unstack().sort_values().drop_duplicates()\n",
    "#     return xFlattened"
   ]
  },
  {
   "cell_type": "code",
   "execution_count": 11,
   "id": "a9ca87f7",
   "metadata": {
    "execution": {
     "iopub.execute_input": "2022-07-22T21:13:25.668197Z",
     "iopub.status.busy": "2022-07-22T21:13:25.667774Z",
     "iopub.status.idle": "2022-07-22T21:13:25.672562Z",
     "shell.execute_reply": "2022-07-22T21:13:25.671493Z"
    },
    "papermill": {
     "duration": 0.016033,
     "end_time": "2022-07-22T21:13:25.674698",
     "exception": false,
     "start_time": "2022-07-22T21:13:25.658665",
     "status": "completed"
    },
    "tags": []
   },
   "outputs": [],
   "source": [
    "#coll(pd.DataFrame(train),0.98)"
   ]
  },
  {
   "cell_type": "code",
   "execution_count": 12,
   "id": "8f41ba57",
   "metadata": {
    "execution": {
     "iopub.execute_input": "2022-07-22T21:13:25.692124Z",
     "iopub.status.busy": "2022-07-22T21:13:25.691722Z",
     "iopub.status.idle": "2022-07-22T21:13:29.818760Z",
     "shell.execute_reply": "2022-07-22T21:13:29.817547Z"
    },
    "papermill": {
     "duration": 4.139022,
     "end_time": "2022-07-22T21:13:29.821723",
     "exception": false,
     "start_time": "2022-07-22T21:13:25.682701",
     "status": "completed"
    },
    "tags": []
   },
   "outputs": [
    {
     "data": {
      "text/plain": [
       "array([0.27129542, 0.13225993, 0.11364444, 0.07929821, 0.06551034,\n",
       "       0.06402066, 0.04764345, 0.01570271, 0.01002706, 0.00905852])"
      ]
     },
     "execution_count": 12,
     "metadata": {},
     "output_type": "execute_result"
    }
   ],
   "source": [
    "pca=PCA(n_components=10)\n",
    "pca.fit(train)\n",
    "pca.explained_variance_ratio_"
   ]
  },
  {
   "cell_type": "code",
   "execution_count": 13,
   "id": "9ceca5cc",
   "metadata": {
    "execution": {
     "iopub.execute_input": "2022-07-22T21:13:29.840104Z",
     "iopub.status.busy": "2022-07-22T21:13:29.839008Z",
     "iopub.status.idle": "2022-07-22T21:13:33.519954Z",
     "shell.execute_reply": "2022-07-22T21:13:33.518588Z"
    },
    "papermill": {
     "duration": 3.693652,
     "end_time": "2022-07-22T21:13:33.523323",
     "exception": false,
     "start_time": "2022-07-22T21:13:29.829671",
     "status": "completed"
    },
    "tags": []
   },
   "outputs": [],
   "source": [
    "pca=PCA(n_components=7)\n",
    "pca_cols=pca.fit_transform(train)"
   ]
  },
  {
   "cell_type": "code",
   "execution_count": 14,
   "id": "4c35123f",
   "metadata": {
    "execution": {
     "iopub.execute_input": "2022-07-22T21:13:33.542531Z",
     "iopub.status.busy": "2022-07-22T21:13:33.542133Z",
     "iopub.status.idle": "2022-07-22T21:13:33.548965Z",
     "shell.execute_reply": "2022-07-22T21:13:33.547945Z"
    },
    "papermill": {
     "duration": 0.018675,
     "end_time": "2022-07-22T21:13:33.551302",
     "exception": false,
     "start_time": "2022-07-22T21:13:33.532627",
     "status": "completed"
    },
    "tags": []
   },
   "outputs": [
    {
     "data": {
      "text/plain": [
       "(98000, 464)"
      ]
     },
     "execution_count": 14,
     "metadata": {},
     "output_type": "execute_result"
    }
   ],
   "source": [
    "train.shape"
   ]
  },
  {
   "cell_type": "code",
   "execution_count": 15,
   "id": "bb0212c6",
   "metadata": {
    "execution": {
     "iopub.execute_input": "2022-07-22T21:13:33.570025Z",
     "iopub.status.busy": "2022-07-22T21:13:33.569305Z",
     "iopub.status.idle": "2022-07-22T21:13:34.426515Z",
     "shell.execute_reply": "2022-07-22T21:13:34.425212Z"
    },
    "papermill": {
     "duration": 0.870229,
     "end_time": "2022-07-22T21:13:34.429853",
     "exception": false,
     "start_time": "2022-07-22T21:13:33.559624",
     "status": "completed"
    },
    "tags": []
   },
   "outputs": [
    {
     "data": {
      "text/plain": [
       "array([9.99999785e-01, 5.56361721e-08, 3.23840921e-08, 2.95671103e-08,\n",
       "       1.87507843e-08, 1.69483716e-08, 1.56958717e-08, 8.80878313e-09,\n",
       "       3.53038463e-09, 3.32371825e-09])"
      ]
     },
     "execution_count": 15,
     "metadata": {},
     "output_type": "execute_result"
    }
   ],
   "source": [
    "pca=PCA(n_components=10)\n",
    "pca.fit(traina)\n",
    "pca.explained_variance_ratio_"
   ]
  },
  {
   "cell_type": "code",
   "execution_count": 16,
   "id": "53a4b018",
   "metadata": {
    "execution": {
     "iopub.execute_input": "2022-07-22T21:13:34.461940Z",
     "iopub.status.busy": "2022-07-22T21:13:34.461222Z",
     "iopub.status.idle": "2022-07-22T21:13:35.045745Z",
     "shell.execute_reply": "2022-07-22T21:13:35.044232Z"
    },
    "papermill": {
     "duration": 0.605001,
     "end_time": "2022-07-22T21:13:35.050154",
     "exception": false,
     "start_time": "2022-07-22T21:13:34.445153",
     "status": "completed"
    },
    "tags": []
   },
   "outputs": [
    {
     "data": {
      "text/plain": [
       "(98000, 30)"
      ]
     },
     "execution_count": 16,
     "metadata": {},
     "output_type": "execute_result"
    }
   ],
   "source": [
    "pca=PCA(n_components=1)\n",
    "pca_col=pca.fit_transform(traina)\n",
    "traina.shape"
   ]
  },
  {
   "cell_type": "code",
   "execution_count": 17,
   "id": "b552521b",
   "metadata": {
    "execution": {
     "iopub.execute_input": "2022-07-22T21:13:35.100141Z",
     "iopub.status.busy": "2022-07-22T21:13:35.099536Z",
     "iopub.status.idle": "2022-07-22T21:13:35.130558Z",
     "shell.execute_reply": "2022-07-22T21:13:35.129583Z"
    },
    "papermill": {
     "duration": 0.056909,
     "end_time": "2022-07-22T21:13:35.132982",
     "exception": false,
     "start_time": "2022-07-22T21:13:35.076073",
     "status": "completed"
    },
    "tags": []
   },
   "outputs": [
    {
     "data": {
      "text/html": [
       "<div>\n",
       "<style scoped>\n",
       "    .dataframe tbody tr th:only-of-type {\n",
       "        vertical-align: middle;\n",
       "    }\n",
       "\n",
       "    .dataframe tbody tr th {\n",
       "        vertical-align: top;\n",
       "    }\n",
       "\n",
       "    .dataframe thead th {\n",
       "        text-align: right;\n",
       "    }\n",
       "</style>\n",
       "<table border=\"1\" class=\"dataframe\">\n",
       "  <thead>\n",
       "    <tr style=\"text-align: right;\">\n",
       "      <th></th>\n",
       "      <th>id</th>\n",
       "      <th>f_00</th>\n",
       "      <th>f_01</th>\n",
       "      <th>f_02</th>\n",
       "      <th>f_03</th>\n",
       "      <th>f_04</th>\n",
       "      <th>f_05</th>\n",
       "      <th>f_06</th>\n",
       "      <th>f_07</th>\n",
       "      <th>f_08</th>\n",
       "      <th>...</th>\n",
       "      <th>f_20</th>\n",
       "      <th>f_21</th>\n",
       "      <th>f_22</th>\n",
       "      <th>f_23</th>\n",
       "      <th>f_24</th>\n",
       "      <th>f_25</th>\n",
       "      <th>f_26</th>\n",
       "      <th>f_27</th>\n",
       "      <th>f_28</th>\n",
       "      <th>pca</th>\n",
       "    </tr>\n",
       "  </thead>\n",
       "  <tbody>\n",
       "    <tr>\n",
       "      <th>0</th>\n",
       "      <td>0</td>\n",
       "      <td>-0.389420</td>\n",
       "      <td>-0.912791</td>\n",
       "      <td>0.648951</td>\n",
       "      <td>0.589045</td>\n",
       "      <td>-0.830817</td>\n",
       "      <td>0.733624</td>\n",
       "      <td>2.258560</td>\n",
       "      <td>2</td>\n",
       "      <td>13</td>\n",
       "      <td>...</td>\n",
       "      <td>-0.757002</td>\n",
       "      <td>-0.763635</td>\n",
       "      <td>-1.090369</td>\n",
       "      <td>1.142641</td>\n",
       "      <td>-0.884274</td>\n",
       "      <td>1.137896</td>\n",
       "      <td>1.309073</td>\n",
       "      <td>1.463002</td>\n",
       "      <td>0.813527</td>\n",
       "      <td>-48999.499995</td>\n",
       "    </tr>\n",
       "    <tr>\n",
       "      <th>1</th>\n",
       "      <td>1</td>\n",
       "      <td>-0.689249</td>\n",
       "      <td>-0.453954</td>\n",
       "      <td>0.654175</td>\n",
       "      <td>0.995248</td>\n",
       "      <td>-1.653020</td>\n",
       "      <td>0.863810</td>\n",
       "      <td>-0.090651</td>\n",
       "      <td>2</td>\n",
       "      <td>3</td>\n",
       "      <td>...</td>\n",
       "      <td>-0.089908</td>\n",
       "      <td>-1.784204</td>\n",
       "      <td>-0.839474</td>\n",
       "      <td>0.459685</td>\n",
       "      <td>1.759412</td>\n",
       "      <td>-0.275422</td>\n",
       "      <td>-0.852168</td>\n",
       "      <td>0.562457</td>\n",
       "      <td>-2.680541</td>\n",
       "      <td>-48998.500003</td>\n",
       "    </tr>\n",
       "    <tr>\n",
       "      <th>2</th>\n",
       "      <td>2</td>\n",
       "      <td>0.809079</td>\n",
       "      <td>0.324568</td>\n",
       "      <td>-1.170602</td>\n",
       "      <td>-0.624491</td>\n",
       "      <td>0.105448</td>\n",
       "      <td>0.783948</td>\n",
       "      <td>1.988301</td>\n",
       "      <td>5</td>\n",
       "      <td>11</td>\n",
       "      <td>...</td>\n",
       "      <td>-1.602377</td>\n",
       "      <td>1.190984</td>\n",
       "      <td>3.267116</td>\n",
       "      <td>-0.088322</td>\n",
       "      <td>-2.168635</td>\n",
       "      <td>-0.974989</td>\n",
       "      <td>1.335763</td>\n",
       "      <td>-1.110655</td>\n",
       "      <td>-3.630723</td>\n",
       "      <td>-48997.499998</td>\n",
       "    </tr>\n",
       "    <tr>\n",
       "      <th>3</th>\n",
       "      <td>3</td>\n",
       "      <td>-0.500923</td>\n",
       "      <td>0.229049</td>\n",
       "      <td>0.264109</td>\n",
       "      <td>0.231520</td>\n",
       "      <td>0.415012</td>\n",
       "      <td>-1.221269</td>\n",
       "      <td>0.138850</td>\n",
       "      <td>6</td>\n",
       "      <td>2</td>\n",
       "      <td>...</td>\n",
       "      <td>1.287801</td>\n",
       "      <td>0.532837</td>\n",
       "      <td>1.036631</td>\n",
       "      <td>-2.041828</td>\n",
       "      <td>1.440490</td>\n",
       "      <td>-1.900191</td>\n",
       "      <td>-0.630771</td>\n",
       "      <td>-0.050641</td>\n",
       "      <td>0.238333</td>\n",
       "      <td>-48996.500001</td>\n",
       "    </tr>\n",
       "    <tr>\n",
       "      <th>4</th>\n",
       "      <td>4</td>\n",
       "      <td>-0.671268</td>\n",
       "      <td>-1.039533</td>\n",
       "      <td>-0.270155</td>\n",
       "      <td>-1.830264</td>\n",
       "      <td>-0.290108</td>\n",
       "      <td>-1.852809</td>\n",
       "      <td>0.781898</td>\n",
       "      <td>8</td>\n",
       "      <td>7</td>\n",
       "      <td>...</td>\n",
       "      <td>-0.434948</td>\n",
       "      <td>0.322505</td>\n",
       "      <td>0.284326</td>\n",
       "      <td>-2.438365</td>\n",
       "      <td>1.473930</td>\n",
       "      <td>-1.044684</td>\n",
       "      <td>1.602686</td>\n",
       "      <td>-0.405263</td>\n",
       "      <td>-1.987263</td>\n",
       "      <td>-48995.500007</td>\n",
       "    </tr>\n",
       "  </tbody>\n",
       "</table>\n",
       "<p>5 rows × 31 columns</p>\n",
       "</div>"
      ],
      "text/plain": [
       "   id      f_00      f_01      f_02      f_03      f_04      f_05      f_06  \\\n",
       "0   0 -0.389420 -0.912791  0.648951  0.589045 -0.830817  0.733624  2.258560   \n",
       "1   1 -0.689249 -0.453954  0.654175  0.995248 -1.653020  0.863810 -0.090651   \n",
       "2   2  0.809079  0.324568 -1.170602 -0.624491  0.105448  0.783948  1.988301   \n",
       "3   3 -0.500923  0.229049  0.264109  0.231520  0.415012 -1.221269  0.138850   \n",
       "4   4 -0.671268 -1.039533 -0.270155 -1.830264 -0.290108 -1.852809  0.781898   \n",
       "\n",
       "   f_07  f_08  ...      f_20      f_21      f_22      f_23      f_24  \\\n",
       "0     2    13  ... -0.757002 -0.763635 -1.090369  1.142641 -0.884274   \n",
       "1     2     3  ... -0.089908 -1.784204 -0.839474  0.459685  1.759412   \n",
       "2     5    11  ... -1.602377  1.190984  3.267116 -0.088322 -2.168635   \n",
       "3     6     2  ...  1.287801  0.532837  1.036631 -2.041828  1.440490   \n",
       "4     8     7  ... -0.434948  0.322505  0.284326 -2.438365  1.473930   \n",
       "\n",
       "       f_25      f_26      f_27      f_28           pca  \n",
       "0  1.137896  1.309073  1.463002  0.813527 -48999.499995  \n",
       "1 -0.275422 -0.852168  0.562457 -2.680541 -48998.500003  \n",
       "2 -0.974989  1.335763 -1.110655 -3.630723 -48997.499998  \n",
       "3 -1.900191 -0.630771 -0.050641  0.238333 -48996.500001  \n",
       "4 -1.044684  1.602686 -0.405263 -1.987263 -48995.500007  \n",
       "\n",
       "[5 rows x 31 columns]"
      ]
     },
     "execution_count": 17,
     "metadata": {},
     "output_type": "execute_result"
    }
   ],
   "source": [
    "traina['pca']=pca_col\n",
    "traina.head()"
   ]
  },
  {
   "cell_type": "code",
   "execution_count": 18,
   "id": "34590ebc",
   "metadata": {
    "execution": {
     "iopub.execute_input": "2022-07-22T21:13:35.152699Z",
     "iopub.status.busy": "2022-07-22T21:13:35.152336Z",
     "iopub.status.idle": "2022-07-22T21:13:35.157559Z",
     "shell.execute_reply": "2022-07-22T21:13:35.156684Z"
    },
    "papermill": {
     "duration": 0.017504,
     "end_time": "2022-07-22T21:13:35.159476",
     "exception": false,
     "start_time": "2022-07-22T21:13:35.141972",
     "status": "completed"
    },
    "tags": []
   },
   "outputs": [],
   "source": [
    "all_columns=[col for col in traina.columns]\n",
    "best_columns=['f_07','f_08', 'f_09', 'f_10','f_11', 'f_12', 'f_13', 'f_22','f_23', 'f_24', 'f_25','f_26','f_27', 'f_28','pca']\n",
    "              "
   ]
  },
  {
   "cell_type": "code",
   "execution_count": 19,
   "id": "3fce8fd7",
   "metadata": {
    "execution": {
     "iopub.execute_input": "2022-07-22T21:13:35.179009Z",
     "iopub.status.busy": "2022-07-22T21:13:35.178209Z",
     "iopub.status.idle": "2022-07-22T21:13:35.195743Z",
     "shell.execute_reply": "2022-07-22T21:13:35.194621Z"
    },
    "papermill": {
     "duration": 0.030038,
     "end_time": "2022-07-22T21:13:35.198403",
     "exception": false,
     "start_time": "2022-07-22T21:13:35.168365",
     "status": "completed"
    },
    "tags": []
   },
   "outputs": [],
   "source": [
    "drop_cols=[col for col in all_columns if col not in best_columns]\n",
    "traina=traina.drop(drop_cols,axis=1)"
   ]
  },
  {
   "cell_type": "code",
   "execution_count": 20,
   "id": "bb38714e",
   "metadata": {
    "execution": {
     "iopub.execute_input": "2022-07-22T21:13:35.217864Z",
     "iopub.status.busy": "2022-07-22T21:13:35.217463Z",
     "iopub.status.idle": "2022-07-22T21:13:35.249253Z",
     "shell.execute_reply": "2022-07-22T21:13:35.248464Z"
    },
    "papermill": {
     "duration": 0.044012,
     "end_time": "2022-07-22T21:13:35.251334",
     "exception": false,
     "start_time": "2022-07-22T21:13:35.207322",
     "status": "completed"
    },
    "tags": []
   },
   "outputs": [
    {
     "data": {
      "text/html": [
       "<div>\n",
       "<style scoped>\n",
       "    .dataframe tbody tr th:only-of-type {\n",
       "        vertical-align: middle;\n",
       "    }\n",
       "\n",
       "    .dataframe tbody tr th {\n",
       "        vertical-align: top;\n",
       "    }\n",
       "\n",
       "    .dataframe thead th {\n",
       "        text-align: right;\n",
       "    }\n",
       "</style>\n",
       "<table border=\"1\" class=\"dataframe\">\n",
       "  <thead>\n",
       "    <tr style=\"text-align: right;\">\n",
       "      <th></th>\n",
       "      <th>f_07</th>\n",
       "      <th>f_08</th>\n",
       "      <th>f_09</th>\n",
       "      <th>f_10</th>\n",
       "      <th>f_11</th>\n",
       "      <th>f_12</th>\n",
       "      <th>f_13</th>\n",
       "      <th>f_22</th>\n",
       "      <th>f_23</th>\n",
       "      <th>f_24</th>\n",
       "      <th>...</th>\n",
       "      <th>f_27</th>\n",
       "      <th>f_28</th>\n",
       "      <th>pca</th>\n",
       "      <th>0</th>\n",
       "      <th>1</th>\n",
       "      <th>2</th>\n",
       "      <th>3</th>\n",
       "      <th>4</th>\n",
       "      <th>5</th>\n",
       "      <th>6</th>\n",
       "    </tr>\n",
       "  </thead>\n",
       "  <tbody>\n",
       "    <tr>\n",
       "      <th>0</th>\n",
       "      <td>2</td>\n",
       "      <td>13</td>\n",
       "      <td>14</td>\n",
       "      <td>5</td>\n",
       "      <td>13</td>\n",
       "      <td>6</td>\n",
       "      <td>6</td>\n",
       "      <td>-1.090369</td>\n",
       "      <td>1.142641</td>\n",
       "      <td>-0.884274</td>\n",
       "      <td>...</td>\n",
       "      <td>1.463002</td>\n",
       "      <td>0.813527</td>\n",
       "      <td>-48999.499995</td>\n",
       "      <td>51.620426</td>\n",
       "      <td>-145.343167</td>\n",
       "      <td>-87.536281</td>\n",
       "      <td>192.899528</td>\n",
       "      <td>-73.205799</td>\n",
       "      <td>-24.996831</td>\n",
       "      <td>22.214765</td>\n",
       "    </tr>\n",
       "    <tr>\n",
       "      <th>1</th>\n",
       "      <td>2</td>\n",
       "      <td>3</td>\n",
       "      <td>6</td>\n",
       "      <td>4</td>\n",
       "      <td>6</td>\n",
       "      <td>16</td>\n",
       "      <td>9</td>\n",
       "      <td>-0.839474</td>\n",
       "      <td>0.459685</td>\n",
       "      <td>1.759412</td>\n",
       "      <td>...</td>\n",
       "      <td>0.562457</td>\n",
       "      <td>-2.680541</td>\n",
       "      <td>-48998.500003</td>\n",
       "      <td>-106.123407</td>\n",
       "      <td>14.307948</td>\n",
       "      <td>235.898205</td>\n",
       "      <td>27.357764</td>\n",
       "      <td>20.696986</td>\n",
       "      <td>-42.663569</td>\n",
       "      <td>-52.224440</td>\n",
       "    </tr>\n",
       "    <tr>\n",
       "      <th>2</th>\n",
       "      <td>5</td>\n",
       "      <td>11</td>\n",
       "      <td>5</td>\n",
       "      <td>8</td>\n",
       "      <td>9</td>\n",
       "      <td>3</td>\n",
       "      <td>11</td>\n",
       "      <td>3.267116</td>\n",
       "      <td>-0.088322</td>\n",
       "      <td>-2.168635</td>\n",
       "      <td>...</td>\n",
       "      <td>-1.110655</td>\n",
       "      <td>-3.630723</td>\n",
       "      <td>-48997.499998</td>\n",
       "      <td>-106.382882</td>\n",
       "      <td>-31.758173</td>\n",
       "      <td>-74.351362</td>\n",
       "      <td>-11.771473</td>\n",
       "      <td>-110.939117</td>\n",
       "      <td>67.765244</td>\n",
       "      <td>26.098749</td>\n",
       "    </tr>\n",
       "    <tr>\n",
       "      <th>3</th>\n",
       "      <td>6</td>\n",
       "      <td>2</td>\n",
       "      <td>13</td>\n",
       "      <td>8</td>\n",
       "      <td>9</td>\n",
       "      <td>6</td>\n",
       "      <td>4</td>\n",
       "      <td>1.036631</td>\n",
       "      <td>-2.041828</td>\n",
       "      <td>1.440490</td>\n",
       "      <td>...</td>\n",
       "      <td>-0.050641</td>\n",
       "      <td>0.238333</td>\n",
       "      <td>-48996.500001</td>\n",
       "      <td>115.970045</td>\n",
       "      <td>-41.789222</td>\n",
       "      <td>11.110871</td>\n",
       "      <td>-31.131649</td>\n",
       "      <td>61.147620</td>\n",
       "      <td>3.765666</td>\n",
       "      <td>-51.365667</td>\n",
       "    </tr>\n",
       "    <tr>\n",
       "      <th>4</th>\n",
       "      <td>8</td>\n",
       "      <td>7</td>\n",
       "      <td>5</td>\n",
       "      <td>3</td>\n",
       "      <td>1</td>\n",
       "      <td>13</td>\n",
       "      <td>11</td>\n",
       "      <td>0.284326</td>\n",
       "      <td>-2.438365</td>\n",
       "      <td>1.473930</td>\n",
       "      <td>...</td>\n",
       "      <td>-0.405263</td>\n",
       "      <td>-1.987263</td>\n",
       "      <td>-48995.500007</td>\n",
       "      <td>-113.990104</td>\n",
       "      <td>-5.605761</td>\n",
       "      <td>182.202370</td>\n",
       "      <td>-85.024549</td>\n",
       "      <td>-60.348752</td>\n",
       "      <td>-50.246881</td>\n",
       "      <td>59.481361</td>\n",
       "    </tr>\n",
       "  </tbody>\n",
       "</table>\n",
       "<p>5 rows × 22 columns</p>\n",
       "</div>"
      ],
      "text/plain": [
       "   f_07  f_08  f_09  f_10  f_11  f_12  f_13      f_22      f_23      f_24  \\\n",
       "0     2    13    14     5    13     6     6 -1.090369  1.142641 -0.884274   \n",
       "1     2     3     6     4     6    16     9 -0.839474  0.459685  1.759412   \n",
       "2     5    11     5     8     9     3    11  3.267116 -0.088322 -2.168635   \n",
       "3     6     2    13     8     9     6     4  1.036631 -2.041828  1.440490   \n",
       "4     8     7     5     3     1    13    11  0.284326 -2.438365  1.473930   \n",
       "\n",
       "   ...      f_27      f_28           pca           0           1           2  \\\n",
       "0  ...  1.463002  0.813527 -48999.499995   51.620426 -145.343167  -87.536281   \n",
       "1  ...  0.562457 -2.680541 -48998.500003 -106.123407   14.307948  235.898205   \n",
       "2  ... -1.110655 -3.630723 -48997.499998 -106.382882  -31.758173  -74.351362   \n",
       "3  ... -0.050641  0.238333 -48996.500001  115.970045  -41.789222   11.110871   \n",
       "4  ... -0.405263 -1.987263 -48995.500007 -113.990104   -5.605761  182.202370   \n",
       "\n",
       "            3           4          5          6  \n",
       "0  192.899528  -73.205799 -24.996831  22.214765  \n",
       "1   27.357764   20.696986 -42.663569 -52.224440  \n",
       "2  -11.771473 -110.939117  67.765244  26.098749  \n",
       "3  -31.131649   61.147620   3.765666 -51.365667  \n",
       "4  -85.024549  -60.348752 -50.246881  59.481361  \n",
       "\n",
       "[5 rows x 22 columns]"
      ]
     },
     "execution_count": 20,
     "metadata": {},
     "output_type": "execute_result"
    }
   ],
   "source": [
    "train = pd.concat([pd.DataFrame(traina), pd.DataFrame(pca_cols)], axis = 1)\n",
    "train.head()"
   ]
  },
  {
   "cell_type": "code",
   "execution_count": 21,
   "id": "bf2173b1",
   "metadata": {
    "execution": {
     "iopub.execute_input": "2022-07-22T21:13:35.271660Z",
     "iopub.status.busy": "2022-07-22T21:13:35.270986Z",
     "iopub.status.idle": "2022-07-22T21:13:35.276316Z",
     "shell.execute_reply": "2022-07-22T21:13:35.275387Z"
    },
    "papermill": {
     "duration": 0.017826,
     "end_time": "2022-07-22T21:13:35.278310",
     "exception": false,
     "start_time": "2022-07-22T21:13:35.260484",
     "status": "completed"
    },
    "tags": []
   },
   "outputs": [],
   "source": [
    "train.columns=[str(i) for i in train.columns.tolist()]"
   ]
  },
  {
   "cell_type": "code",
   "execution_count": 22,
   "id": "02ced268",
   "metadata": {
    "execution": {
     "iopub.execute_input": "2022-07-22T21:13:35.298965Z",
     "iopub.status.busy": "2022-07-22T21:13:35.297782Z",
     "iopub.status.idle": "2022-07-22T21:13:38.365690Z",
     "shell.execute_reply": "2022-07-22T21:13:38.364558Z"
    },
    "papermill": {
     "duration": 3.081123,
     "end_time": "2022-07-22T21:13:38.368544",
     "exception": false,
     "start_time": "2022-07-22T21:13:35.287421",
     "status": "completed"
    },
    "tags": []
   },
   "outputs": [],
   "source": [
    "robust=RobustScaler()\n",
    "power=PowerTransformer()\n",
    "train=power.fit_transform(train)\n",
    "train=robust.fit_transform(train)"
   ]
  },
  {
   "cell_type": "code",
   "execution_count": null,
   "id": "768a61a5",
   "metadata": {
    "papermill": {
     "duration": 0.00912,
     "end_time": "2022-07-22T21:13:38.386869",
     "exception": false,
     "start_time": "2022-07-22T21:13:38.377749",
     "status": "completed"
    },
    "tags": []
   },
   "outputs": [],
   "source": []
  },
  {
   "cell_type": "code",
   "execution_count": null,
   "id": "655251d9",
   "metadata": {
    "papermill": {
     "duration": 0.009227,
     "end_time": "2022-07-22T21:13:38.405597",
     "exception": false,
     "start_time": "2022-07-22T21:13:38.396370",
     "status": "completed"
    },
    "tags": []
   },
   "outputs": [],
   "source": []
  }
 ],
 "metadata": {
  "kernelspec": {
   "display_name": "Python 3",
   "language": "python",
   "name": "python3"
  },
  "language_info": {
   "codemirror_mode": {
    "name": "ipython",
    "version": 3
   },
   "file_extension": ".py",
   "mimetype": "text/x-python",
   "name": "python",
   "nbconvert_exporter": "python",
   "pygments_lexer": "ipython3",
   "version": "3.7.12"
  },
  "papermill": {
   "default_parameters": {},
   "duration": 35.641991,
   "end_time": "2022-07-22T21:13:41.642611",
   "environment_variables": {},
   "exception": null,
   "input_path": "__notebook__.ipynb",
   "output_path": "__notebook__.ipynb",
   "parameters": {},
   "start_time": "2022-07-22T21:13:06.000620",
   "version": "2.3.4"
  }
 },
 "nbformat": 4,
 "nbformat_minor": 5
}
