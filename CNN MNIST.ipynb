{
 "cells": [
  {
   "cell_type": "code",
   "execution_count": 1,
   "id": "4b547a0a",
   "metadata": {},
   "outputs": [],
   "source": [
    "import numpy"
   ]
  },
  {
   "cell_type": "code",
   "execution_count": 2,
   "id": "b6b62a3f",
   "metadata": {},
   "outputs": [],
   "source": [
    "import tensorflow\n"
   ]
  },
  {
   "cell_type": "code",
   "execution_count": 3,
   "id": "d046d32f",
   "metadata": {},
   "outputs": [],
   "source": [
    "import numpy as np\n",
    "from scipy import signal\n",
    "from scipy import misc\n",
    "import matplotlib.pyplot as plt\n",
    "from PIL import Image"
   ]
  },
  {
   "cell_type": "code",
   "execution_count": 4,
   "id": "02a7c3cb",
   "metadata": {},
   "outputs": [
    {
     "name": "stdout",
     "output_type": "stream",
     "text": [
      "Requirement already satisfied: grpcio in c:\\users\\shash\\anaconda3\\lib\\site-packages (1.44.0)\n",
      "Requirement already satisfied: six>=1.5.2 in c:\\users\\shash\\anaconda3\\lib\\site-packages (from grpcio) (1.16.0)\n",
      "Note: you may need to restart the kernel to use updated packages.\n"
     ]
    }
   ],
   "source": [
    "pip install grpcio"
   ]
  },
  {
   "cell_type": "code",
   "execution_count": 5,
   "id": "8d3815e3",
   "metadata": {},
   "outputs": [],
   "source": [
    "import tensorflow as tf\n",
    "from IPython.display import Markdown, display\n",
    "\n",
    "def printmd(string):\n",
    "    display(Markdown('# <span style=\"color:red\">'+string+'</span>'))"
   ]
  },
  {
   "cell_type": "code",
   "execution_count": 6,
   "id": "268f3719",
   "metadata": {},
   "outputs": [],
   "source": [
    "mnist = tf.keras.datasets.mnist"
   ]
  },
  {
   "cell_type": "code",
   "execution_count": 7,
   "id": "9dfdcf45",
   "metadata": {},
   "outputs": [],
   "source": [
    "(X_train, y_train),(X_test,y_test)=mnist.load_data()"
   ]
  },
  {
   "cell_type": "code",
   "execution_count": 8,
   "id": "7b8fb039",
   "metadata": {},
   "outputs": [],
   "source": [
    "X_train, X_test=X_train/255.0, X_test/255.0"
   ]
  },
  {
   "cell_type": "code",
   "execution_count": 9,
   "id": "68a6b5f3",
   "metadata": {},
   "outputs": [
    {
     "data": {
      "text/plain": [
       "array([5, 0, 4, 1, 9, 2, 1, 3, 1, 4], dtype=uint8)"
      ]
     },
     "execution_count": 9,
     "metadata": {},
     "output_type": "execute_result"
    }
   ],
   "source": [
    "y_train[0:10]"
   ]
  },
  {
   "cell_type": "code",
   "execution_count": 10,
   "id": "172ac7ed",
   "metadata": {},
   "outputs": [
    {
     "name": "stdout",
     "output_type": "stream",
     "text": [
      "categorical labels\n",
      "[5 0 4 1 9]\n",
      "one hot encoded labels\n",
      "tf.Tensor(\n",
      "[[0. 0. 0. 0. 0. 1. 0. 0. 0. 0.]\n",
      " [1. 0. 0. 0. 0. 0. 0. 0. 0. 0.]\n",
      " [0. 0. 0. 0. 1. 0. 0. 0. 0. 0.]\n",
      " [0. 1. 0. 0. 0. 0. 0. 0. 0. 0.]\n",
      " [0. 0. 0. 0. 0. 0. 0. 0. 0. 1.]], shape=(5, 10), dtype=float32)\n"
     ]
    }
   ],
   "source": [
    "print(\"categorical labels\")\n",
    "print(y_train[0:5])\n",
    "y_train=tf.one_hot(y_train,10)\n",
    "y_test=tf.one_hot(y_test,10)\n",
    "print (\"one hot encoded labels\")\n",
    "print(y_train[0:5])"
   ]
  },
  {
   "cell_type": "code",
   "execution_count": 11,
   "id": "b9caeee7",
   "metadata": {},
   "outputs": [
    {
     "name": "stdout",
     "output_type": "stream",
     "text": [
      "(60000, 28, 28)\n",
      "(60000, 10)\n"
     ]
    },
    {
     "data": {
      "text/plain": [
       "(10000, 28, 28)"
      ]
     },
     "execution_count": 11,
     "metadata": {},
     "output_type": "execute_result"
    }
   ],
   "source": [
    "print(X_train.shape)\n",
    "print(y_train.shape)\n",
    "X_test.shape"
   ]
  },
  {
   "cell_type": "code",
   "execution_count": 12,
   "id": "81c52464",
   "metadata": {},
   "outputs": [],
   "source": [
    "train_ds=tf.data.Dataset.from_tensor_slices((X_train,y_train)).batch(50)\n",
    "test_ds=tf.data.Dataset.from_tensor_slices((X_test,y_test)).batch(50)"
   ]
  },
  {
   "cell_type": "code",
   "execution_count": 13,
   "id": "6a6d2f25",
   "metadata": {},
   "outputs": [
    {
     "name": "stdout",
     "output_type": "stream",
     "text": [
      "(60000, 28, 28)\n",
      "(60000, 784)\n"
     ]
    }
   ],
   "source": [
    "from tensorflow.keras.layers import Flatten\n",
    "flat=Flatten(dtype='float32')\n",
    "print(X_train.shape)\n",
    "print(flat(X_train).shape)"
   ]
  },
  {
   "cell_type": "code",
   "execution_count": 14,
   "id": "082b07f4",
   "metadata": {},
   "outputs": [],
   "source": [
    "W=tf.Variable(tf.zeros([784,10], tf.float32))\n",
    "b=tf.Variable(tf.zeros([10], tf.float32))"
   ]
  },
  {
   "cell_type": "code",
   "execution_count": 15,
   "id": "108cc139",
   "metadata": {},
   "outputs": [],
   "source": [
    "def forward(x):\n",
    "    return tf.matmul(x,W)+b"
   ]
  },
  {
   "cell_type": "code",
   "execution_count": 16,
   "id": "ba777987",
   "metadata": {},
   "outputs": [
    {
     "name": "stdout",
     "output_type": "stream",
     "text": [
      "[8.8075405e-01 4.8839214e-05 1.1919710e-01]\n",
      "tf.Tensor(1.0, shape=(), dtype=float32)\n",
      "finding vector with largest value (label assignment)\n",
      "0\n"
     ]
    }
   ],
   "source": [
    "vector=[10, 0.2, 8]\n",
    "softmax=tf.nn.softmax(vector)\n",
    "print(softmax.numpy())\n",
    "#verifying normalization\n",
    "print(tf.reduce_sum(softmax))\n",
    "print(\"finding vector with largest value (label assignment)\")\n",
    "print(tf.argmax(softmax).numpy())\n"
   ]
  },
  {
   "cell_type": "code",
   "execution_count": 17,
   "id": "a7d0d7e4",
   "metadata": {},
   "outputs": [],
   "source": [
    "def activate(x):\n",
    "    return tf.nn.softmax(forward(x))"
   ]
  },
  {
   "cell_type": "code",
   "execution_count": 18,
   "id": "973a2f1b",
   "metadata": {},
   "outputs": [],
   "source": [
    "def model(x):\n",
    "    x=flat(x)\n",
    "    return activate(x)"
   ]
  },
  {
   "cell_type": "code",
   "execution_count": 19,
   "id": "fa427a9d",
   "metadata": {},
   "outputs": [
    {
     "data": {
      "text/plain": [
       "138155.12"
      ]
     },
     "execution_count": 19,
     "metadata": {},
     "output_type": "execute_result"
    }
   ],
   "source": [
    "def cross_entropy(y_label,y_pred):\n",
    "    return (-tf.reduce_sum(y_label*tf.math.log(y_pred+1.e-10)))\n",
    "cross_entropy(y_train,model(X_train)).numpy()\n",
    "    "
   ]
  },
  {
   "cell_type": "code",
   "execution_count": 20,
   "id": "f45176eb",
   "metadata": {},
   "outputs": [],
   "source": [
    "optimizer=tf.keras.optimizers.SGD(learning_rate=0.25)"
   ]
  },
  {
   "cell_type": "code",
   "execution_count": 21,
   "id": "69bc385e",
   "metadata": {},
   "outputs": [],
   "source": [
    "def train_step(x,y):\n",
    "    with tf.GradientTape() as tape:\n",
    "        current_loss=cross_entropy(y, model(x))\n",
    "        grads=tape.gradient(current_loss, [W,b])\n",
    "        optimizer.apply_gradients(zip(grads,[W,b]))\n",
    "    return current_loss.numpy()\n",
    "    "
   ]
  },
  {
   "cell_type": "code",
   "execution_count": 22,
   "id": "ebd1bfae",
   "metadata": {},
   "outputs": [
    {
     "name": "stdout",
     "output_type": "stream",
     "text": [
      "epoch 0 batch 500 loss:  231.75061\n",
      "epoch 0 batch 1000 loss:  188.92615\n",
      "End of epoch 0 loss 241968.47 accuracy 0.7991\n",
      "epoch 1 batch 500 loss:  168.98343\n",
      "epoch 1 batch 1000 loss:  185.70978\n",
      "End of epoch 1 loss 217362.23 accuracy 0.82068336\n",
      "epoch 2 batch 500 loss:  208.97937\n",
      "epoch 2 batch 1000 loss:  211.79245\n",
      "End of epoch 2 loss 212259.16 accuracy 0.82741666\n",
      "epoch 3 batch 500 loss:  208.31625\n",
      "epoch 3 batch 1000 loss:  181.04591\n",
      "End of epoch 3 loss 209227.98 accuracy 0.83106667\n",
      "epoch 4 batch 500 loss:  216.56789\n",
      "epoch 4 batch 1000 loss:  209.17433\n",
      "End of epoch 4 loss 216292.03 accuracy 0.8265333\n",
      "epoch 5 batch 500 loss:  188.2135\n",
      "epoch 5 batch 1000 loss:  188.9256\n",
      "End of epoch 5 loss 210661.98 accuracy 0.83168334\n",
      "epoch 6 batch 500 loss:  158.47755\n",
      "epoch 6 batch 1000 loss:  202.94705\n",
      "End of epoch 6 loss 201910.56 accuracy 0.8401\n",
      "epoch 7 batch 500 loss:  174.36288\n",
      "epoch 7 batch 1000 loss:  173.86089\n",
      "End of epoch 7 loss 206299.4 accuracy 0.8356\n",
      "epoch 8 batch 500 loss:  173.2903\n",
      "epoch 8 batch 1000 loss:  163.141\n",
      "End of epoch 8 loss 214402.61 accuracy 0.8285\n",
      "epoch 9 batch 500 loss:  171.27386\n",
      "epoch 9 batch 1000 loss:  201.22874\n",
      "End of epoch 9 loss 203168.03 accuracy 0.83923334\n"
     ]
    }
   ],
   "source": [
    "W=tf.Variable(tf.zeros([784,10],tf.float32))\n",
    "b=tf.Variable(tf.zeros([10],tf.float32))\n",
    "loss_values=[]\n",
    "accuracies=[]\n",
    "epochs=10\n",
    "for i in range(epochs):\n",
    "    j=0\n",
    "    for X_train_batch, y_train_batch in train_ds:\n",
    "        j+=1\n",
    "        current_loss = train_step(X_train_batch, y_train_batch)\n",
    "        if j%500==0:\n",
    "            print(\"epoch\", str(i), \"batch\", str(j),\"loss: \",str(current_loss))\n",
    "    current_loss=cross_entropy(y_train,model(X_train)).numpy()\n",
    "    loss_values.append(current_loss)\n",
    "    correct_prediction = tf.equal(tf.argmax(model(X_train), axis=1),\n",
    "                                  tf.argmax(y_train, axis=1))\n",
    "    tf.equal(tf.argmax(model(X_train), axis=1),\n",
    "                                  tf.argmax(y_train, axis=1))\n",
    "    accuracy=tf.reduce_mean(tf.cast(correct_prediction,tf.float32)).numpy()\n",
    "    accuracies.append(accuracy)\n",
    "    print(\"End of epoch\",str(i),\"loss\",str(current_loss),\"accuracy\",str(accuracy))\n",
    "    "
   ]
  },
  {
   "cell_type": "code",
   "execution_count": 23,
   "id": "d1c1e0bf",
   "metadata": {},
   "outputs": [],
   "source": [
    "correct_prediction_train= tf.equal(tf.argmax(model(X_train),axis=1),tf.argmax(y_train, axis=1))\n",
    "accuracy_train=tf.reduce_mean(tf.cast(correct_prediction_train, tf.float32)).numpy()\n",
    "correct_prediction_test=tf.equal(tf.argmax(model(X_test),axis=1),tf.argmax(y_test,axis=1))\n",
    "accuracy_test=tf.reduce_mean(tf.cast(correct_prediction_test, tf.float32)).numpy()\n"
   ]
  },
  {
   "cell_type": "code",
   "execution_count": 24,
   "id": "67bf480e",
   "metadata": {},
   "outputs": [
    {
     "name": "stdout",
     "output_type": "stream",
     "text": [
      "0.83923334\n",
      "0.833\n"
     ]
    }
   ],
   "source": [
    "print(accuracy_train)\n",
    "print(accuracy_test)"
   ]
  },
  {
   "cell_type": "code",
   "execution_count": 25,
   "id": "77fba8c4",
   "metadata": {},
   "outputs": [
    {
     "data": {
      "text/plain": [
       "Text(0, 0.5, 'loss')"
      ]
     },
     "execution_count": 25,
     "metadata": {},
     "output_type": "execute_result"
    },
    {
     "data": {
      "image/png": "[encoded data removed]",
      "text/plain": [
       "<Figure size 720x432 with 1 Axes>"
      ]
     },
     "metadata": {
      "needs_background": "light"
     },
     "output_type": "display_data"
    }
   ],
   "source": [
    "import matplotlib.pyplot as plt\n",
    "%matplotlib inline\n",
    "plt.rcParams['figure.figsize']=(10,6)\n",
    "plt.plot(loss_values,'-ro')\n",
    "plt.title(\"loss per epoch\")\n",
    "plt.xlabel('epoch')\n",
    "plt.ylabel('loss')"
   ]
  },
  {
   "cell_type": "code",
   "execution_count": 26,
   "id": "674314c9",
   "metadata": {},
   "outputs": [
    {
     "data": {
      "text/plain": [
       "Text(0, 0.5, 'acc')"
      ]
     },
     "execution_count": 26,
     "metadata": {},
     "output_type": "execute_result"
    },
    {
     "data": {
      "image/png": "[encoded data removed]",
      "text/plain": [
       "<Figure size 720x432 with 1 Axes>"
      ]
     },
     "metadata": {
      "needs_background": "light"
     },
     "output_type": "display_data"
    }
   ],
   "source": [
    "plt.plot(accuracies,'-go')\n",
    "plt.title('accuracy per epoch')\n",
    "plt.xlabel('epoch')\n",
    "plt.ylabel('acc')"
   ]
  },
  {
   "cell_type": "code",
   "execution_count": 27,
   "id": "eb1e5da0",
   "metadata": {},
   "outputs": [],
   "source": [
    "width=28\n",
    "height=28\n",
    "flat=width*height\n",
    "class_output=10"
   ]
  },
  {
   "cell_type": "code",
   "execution_count": 28,
   "id": "9a653e04",
   "metadata": {},
   "outputs": [],
   "source": [
    "X_img_train=tf.reshape(X_train, [-1,28,28,1])\n",
    "X_img_train=tf.cast(X_img_train,'float32')\n",
    "X_img_test=tf.reshape(X_test, [-1,28,28,1])\n",
    "X_img_test=tf.cast(X_img_test,'float32')\n",
    "train_ds2 = tf.data.Dataset.from_tensor_slices((X_img_train, y_train)).batch(50)\n",
    "test_ds2 = tf.data.Dataset.from_tensor_slices((X_img_test, y_test)).batch(50)"
   ]
  },
  {
   "cell_type": "code",
   "execution_count": 29,
   "id": "a399744f",
   "metadata": {},
   "outputs": [],
   "source": [
    "X_img_train=tf.slice(X_img_train,[0,0,0,0],[10000,28,28,1])\n",
    "y_train=tf.slice(y_train,[0,0],[10000,10])"
   ]
  },
  {
   "cell_type": "code",
   "execution_count": 30,
   "id": "e0a1aba0",
   "metadata": {},
   "outputs": [],
   "source": [
    "W_conv1=tf.Variable(tf.random.truncated_normal([5,5,1,32],stddev=0.1,seed=1))\n",
    "b_conv1=tf.Variable(tf.constant(0.1,shape=[32]))"
   ]
  },
  {
   "cell_type": "code",
   "execution_count": 31,
   "id": "cae524bc",
   "metadata": {},
   "outputs": [],
   "source": [
    "def convolve1(x):\n",
    "    return (tf.nn.conv2d(x,W_conv1,strides=[1,1,1,1],padding='SAME')+b_conv1)"
   ]
  },
  {
   "cell_type": "code",
   "execution_count": 32,
   "id": "c0e54ad1",
   "metadata": {},
   "outputs": [],
   "source": [
    "def h_conv1(x):\n",
    "    return(tf.nn.relu(convolve1(x)))"
   ]
  },
  {
   "cell_type": "code",
   "execution_count": 33,
   "id": "abfe9159",
   "metadata": {},
   "outputs": [],
   "source": [
    "def conv1(x):\n",
    "    return tf.nn.max_pool(h_conv1(x),ksize=[1,2,2,1],strides=[1,2,2,1],padding='SAME')"
   ]
  },
  {
   "cell_type": "code",
   "execution_count": 34,
   "id": "588c1865",
   "metadata": {},
   "outputs": [],
   "source": [
    "W_conv2=tf.Variable(tf.random.truncated_normal([5,5,32,64],stddev=0.1,seed=2))\n",
    "b_conv2=tf.Variable(tf.constant(0.1,shape=[64]))"
   ]
  },
  {
   "cell_type": "code",
   "execution_count": 35,
   "id": "c37b6338",
   "metadata": {},
   "outputs": [],
   "source": [
    "def convolve2(x):\n",
    "    return(tf.nn.conv2d(conv1(x), W_conv2,strides=[1,1,1,1], padding='SAME')+b_conv2)"
   ]
  },
  {
   "cell_type": "code",
   "execution_count": 36,
   "id": "8c47491b",
   "metadata": {},
   "outputs": [],
   "source": [
    "def h_conv2(x):\n",
    "    return(tf.nn.relu(convolve2(x)))"
   ]
  },
  {
   "cell_type": "code",
   "execution_count": 37,
   "id": "027c3093",
   "metadata": {},
   "outputs": [],
   "source": [
    "def conv2(x):\n",
    "    return(tf.nn.max_pool(h_conv2(x),ksize=[1,2,2,1],strides=[1,2,2,1],padding='SAME'))"
   ]
  },
  {
   "cell_type": "code",
   "execution_count": 38,
   "id": "becc8299",
   "metadata": {},
   "outputs": [],
   "source": [
    "def layer2_matrix(x):\n",
    "    return tf.reshape(conv2(x),[-1,7*7*64])"
   ]
  },
  {
   "cell_type": "code",
   "execution_count": 39,
   "id": "94f8390e",
   "metadata": {},
   "outputs": [],
   "source": [
    "Wfc1=tf.Variable(tf.random.truncated_normal([7*7*64,1024], stddev=0.1,seed=3))\n",
    "bfc1=tf.Variable(tf.constant(0.1,shape=[1024]))"
   ]
  },
  {
   "cell_type": "code",
   "execution_count": 40,
   "id": "514426f1",
   "metadata": {},
   "outputs": [],
   "source": [
    "def fc1(x): \n",
    "    return tf.matmul(layer2_matrix(x),Wfc1)+bfc1"
   ]
  },
  {
   "cell_type": "code",
   "execution_count": 41,
   "id": "6ee4ac38",
   "metadata": {},
   "outputs": [],
   "source": [
    "def h_fc1(x):\n",
    "    return tf.nn.relu(fc1(x))"
   ]
  },
  {
   "cell_type": "code",
   "execution_count": 42,
   "id": "7b8c6616",
   "metadata": {},
   "outputs": [],
   "source": [
    "keep_prob=0.5\n",
    "def layer_drop(x):\n",
    "    return tf.nn.dropout(h_fc1(x),keep_prob)"
   ]
  },
  {
   "cell_type": "code",
   "execution_count": 43,
   "id": "024b3af4",
   "metadata": {},
   "outputs": [],
   "source": [
    "Wfc2=tf.Variable(tf.random.truncated_normal([1024,10], stddev=0.1,seed=3))\n",
    "bfc2=tf.Variable(tf.constant(0.1,shape=[10]))"
   ]
  },
  {
   "cell_type": "code",
   "execution_count": 44,
   "id": "cb8552a9",
   "metadata": {},
   "outputs": [],
   "source": [
    "def fc(x): return tf.matmul(layer_drop(x),Wfc2)+bfc2"
   ]
  },
  {
   "cell_type": "code",
   "execution_count": 45,
   "id": "62515e8b",
   "metadata": {},
   "outputs": [],
   "source": [
    "def y_CNN(x): return tf.nn.softmax(fc(x))"
   ]
  },
  {
   "cell_type": "code",
   "execution_count": 46,
   "id": "242bb18c",
   "metadata": {},
   "outputs": [
    {
     "data": {
      "text/plain": [
       "0.10536051565782628"
      ]
     },
     "execution_count": 46,
     "metadata": {},
     "output_type": "execute_result"
    }
   ],
   "source": [
    "import numpy as np\n",
    "layer4_test=[[0.9,0.1,0.1],[0.9,0.1,0.1]]\n",
    "y_test=[[1.0,0.0,0.0],[1.0,0.0,0.0]]\n",
    "np.mean(-np.sum(y_test*np.log(layer4_test),1))"
   ]
  },
  {
   "cell_type": "code",
   "execution_count": 47,
   "id": "62181085",
   "metadata": {},
   "outputs": [],
   "source": [
    "def cross_entropy(y_label,y_pred):\n",
    "    return(-tf.reduce_sum(y_label*tf.math.log(y_pred+1.e-10)))"
   ]
  },
  {
   "cell_type": "code",
   "execution_count": 48,
   "id": "e2b039e1",
   "metadata": {},
   "outputs": [],
   "source": [
    "optimizer = tf.keras.optimizers.Adam(1e-4)"
   ]
  },
  {
   "cell_type": "code",
   "execution_count": 49,
   "id": "9f1ec486",
   "metadata": {},
   "outputs": [],
   "source": [
    "variables=[W_conv1,b_conv1,W_conv2,b_conv2,Wfc1,bfc1,Wfc2,bfc2,]\n",
    "def train_step(x,y):\n",
    "    with tf.GradientTape() as tape:\n",
    "        current_loss=cross_entropy(y,y_CNN(x))\n",
    "        grads=tape.gradient(current_loss, variables)\n",
    "        optimizer.apply_gradients(zip(grads,variables))\n",
    "        return  current_loss.numpy()"
   ]
  },
  {
   "cell_type": "code",
   "execution_count": 50,
   "id": "99c25d91",
   "metadata": {},
   "outputs": [],
   "source": [
    "correct_prediction=tf.equal(tf.argmax(y_CNN(X_img_train),axis=1),tf.argmax(y_train,axis=1))"
   ]
  },
  {
   "cell_type": "code",
   "execution_count": 51,
   "id": "9bfa6247",
   "metadata": {},
   "outputs": [],
   "source": [
    "accuracy=tf.reduce_mean(tf.cast(correct_prediction,'float32'))"
   ]
  },
  {
   "cell_type": "code",
   "execution_count": 58,
   "id": "8d24f4b0",
   "metadata": {},
   "outputs": [
    {
     "name": "stdout",
     "output_type": "stream",
     "text": [
      "epoch 1 batch 50 loss:  1.3112416 accuracy 1.0\n",
      "epoch 1 batch 100 loss:  7.850341 accuracy 0.98\n",
      "epoch 1 batch 150 loss:  1.7327166 accuracy 0.96\n",
      "epoch 1 batch 200 loss:  0.17756103 accuracy 1.0\n",
      "epoch 1 batch 250 loss:  4.8822556 accuracy 0.98\n",
      "epoch 1 batch 300 loss:  2.2162538 accuracy 0.98\n",
      "epoch 1 batch 350 loss:  2.3918316 accuracy 0.98\n",
      "epoch 1 batch 400 loss:  1.5027008 accuracy 1.0\n",
      "epoch 1 batch 450 loss:  3.5203223 accuracy 0.98\n",
      "epoch 1 batch 500 loss:  0.29665446 accuracy 1.0\n",
      "epoch 1 batch 550 loss:  5.200161 accuracy 0.98\n",
      "epoch 1 batch 600 loss:  5.0497293 accuracy 1.0\n",
      "epoch 1 batch 650 loss:  5.8354735 accuracy 1.0\n",
      "epoch 1 batch 700 loss:  5.1563597 accuracy 0.98\n",
      "epoch 1 batch 750 loss:  8.380575 accuracy 0.98\n",
      "epoch 1 batch 800 loss:  1.1323577 accuracy 1.0\n",
      "epoch 1 batch 850 loss:  0.66411763 accuracy 1.0\n",
      "epoch 1 batch 900 loss:  1.9827566 accuracy 1.0\n",
      "epoch 1 batch 950 loss:  7.6666775 accuracy 0.96\n",
      "epoch 1 batch 1000 loss:  2.1012607 accuracy 0.98\n",
      "epoch 1 batch 1050 loss:  0.6773956 accuracy 1.0\n",
      "epoch 1 batch 1100 loss:  7.1311893 accuracy 1.0\n",
      "epoch 1 batch 1150 loss:  4.934675 accuracy 0.96\n",
      "epoch 1 batch 1200 loss:  0.8680224 accuracy 0.98\n",
      "end of epoch 1 loss: 681.0907 accuracy: 0.9768\n",
      "epoch 2 batch 50 loss:  0.4444556 accuracy 1.0\n",
      "epoch 2 batch 100 loss:  6.4163976 accuracy 0.96\n",
      "epoch 2 batch 150 loss:  1.5980874 accuracy 0.98\n",
      "epoch 2 batch 200 loss:  0.29242966 accuracy 1.0\n",
      "epoch 2 batch 250 loss:  0.8907564 accuracy 1.0\n",
      "epoch 2 batch 300 loss:  3.5290227 accuracy 1.0\n",
      "epoch 2 batch 350 loss:  1.626806 accuracy 0.98\n",
      "epoch 2 batch 400 loss:  1.1522374 accuracy 0.98\n",
      "epoch 2 batch 450 loss:  3.6155386 accuracy 1.0\n",
      "epoch 2 batch 500 loss:  0.2791957 accuracy 1.0\n",
      "epoch 2 batch 550 loss:  1.9386377 accuracy 0.98\n",
      "epoch 2 batch 600 loss:  1.7346857 accuracy 0.98\n",
      "epoch 2 batch 650 loss:  6.804885 accuracy 0.92\n",
      "epoch 2 batch 700 loss:  1.5221546 accuracy 1.0\n",
      "epoch 2 batch 750 loss:  5.9948025 accuracy 0.96\n",
      "epoch 2 batch 800 loss:  0.23767981 accuracy 1.0\n",
      "epoch 2 batch 850 loss:  1.3472857 accuracy 1.0\n",
      "epoch 2 batch 900 loss:  0.8653297 accuracy 0.94\n",
      "epoch 2 batch 950 loss:  6.2486553 accuracy 0.98\n",
      "epoch 2 batch 1000 loss:  2.9459274 accuracy 0.96\n",
      "epoch 2 batch 1050 loss:  1.6394212 accuracy 1.0\n",
      "epoch 2 batch 1100 loss:  1.9221784 accuracy 1.0\n",
      "epoch 2 batch 1150 loss:  4.5326586 accuracy 0.98\n",
      "epoch 2 batch 1200 loss:  0.3543262 accuracy 1.0\n",
      "end of epoch 2 loss: 507.00406 accuracy: 0.9842\n"
     ]
    }
   ],
   "source": [
    "loss_values=[]\n",
    "accuracies=[]\n",
    "epochs=2\n",
    "for i in range(epochs):\n",
    "    j=0\n",
    "    i+=1\n",
    "    for X_train_batch,y_train_batch in train_ds2:\n",
    "        j+=1\n",
    "        current_loss=train_step(X_train_batch,y_train_batch)\n",
    "        if j%50==0:\n",
    "            correct_prediction=tf.equal(tf.argmax(y_CNN(X_train_batch),axis=1),\n",
    "                                       tf.argmax(y_train_batch,axis=1))\n",
    "            accuracy = tf.reduce_mean(tf.cast(correct_prediction, tf.float32)).numpy()\n",
    "            print(\"epoch\",str(i),\"batch\",str(j),\"loss: \", str(current_loss),\"accuracy\",str(accuracy))\n",
    "    current_loss=cross_entropy(y_train,y_CNN(X_img_train)).numpy()\n",
    "    loss_values.append(current_loss)\n",
    "    correct_prediction=tf.equal(tf.argmax(y_CNN(X_img_train),axis=1),\n",
    "                               tf.argmax(y_train,axis=1))\n",
    "    accuracy=tf.reduce_mean(tf.cast(correct_prediction,tf.float32)).numpy()\n",
    "    accuracies.append(accuracy)\n",
    "    print(\"end of epoch\",str(i),\"loss:\", str(current_loss),\"accuracy:\", str(accuracy))"
   ]
  },
  {
   "cell_type": "code",
   "execution_count": 67,
   "id": "1be6809e",
   "metadata": {},
   "outputs": [
    {
     "name": "stdout",
     "output_type": "stream",
     "text": [
      "batch 100 accuracy 1.0\n",
      "batch 200 accuracy 1.0\n",
      "batch 300 accuracy 0.98\n",
      "batch 400 accuracy 1.0\n",
      "batch 500 accuracy 1.0\n",
      "batch 600 accuracy 0.98\n",
      "batch 700 accuracy 1.0\n",
      "batch 800 accuracy 1.0\n",
      "batch 900 accuracy 0.96\n",
      "batch 1000 accuracy 1.0\n",
      "batch 1100 accuracy 0.98\n",
      "batch 1200 accuracy 1.0\n",
      "accuracy of entire set 0.9862667\n"
     ]
    }
   ],
   "source": [
    "j=0\n",
    "acccuracies=[]\n",
    "# evaluate accuracy by batch and average...reporting every 100th batch\n",
    "for X_train_batch, y_train_batch in train_ds2:\n",
    "        j+=1\n",
    "        correct_prediction = tf.equal(tf.argmax(y_CNN(X_train_batch), axis=1),\n",
    "                                  tf.argmax(y_train_batch, axis=1))\n",
    "        accuracy = tf.reduce_mean(tf.cast(correct_prediction, tf.float32)).numpy()\n",
    "        accuracies.append(accuracy)\n",
    "        if j%100==0:\n",
    "            print(\"batch\", str(j), \"accuracy\", str(accuracy) ) \n",
    "import numpy as np\n",
    "print(\"accuracy of entire set\", str(np.mean(accuracies)))"
   ]
  },
  {
   "cell_type": "code",
   "execution_count": null,
   "id": "2bd22e15",
   "metadata": {},
   "outputs": [],
   "source": []
  }
 ],
 "metadata": {
  "kernelspec": {
   "display_name": "Python 3 (ipykernel)",
   "language": "python",
   "name": "python3"
  },
  "language_info": {
   "codemirror_mode": {
    "name": "ipython",
    "version": 3
   },
   "file_extension": ".py",
   "mimetype": "text/x-python",
   "name": "python",
   "nbconvert_exporter": "python",
   "pygments_lexer": "ipython3",
   "version": "3.9.7"
  }
 },
 "nbformat": 4,
 "nbformat_minor": 5
}
