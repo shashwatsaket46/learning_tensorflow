{
 "cells": [
  {
   "cell_type": "code",
   "execution_count": 1,
   "id": "be4d9b46",
   "metadata": {
    "_cell_guid": "b1076dfc-b9ad-4769-8c92-a6c4dae69d19",
    "_uuid": "8f2839f25d086af736a60e9eeb907d3b93b6e0e5",
    "execution": {
     "iopub.execute_input": "2022-07-23T05:41:08.087659Z",
     "iopub.status.busy": "2022-07-23T05:41:08.086109Z",
     "iopub.status.idle": "2022-07-23T05:41:08.100634Z",
     "shell.execute_reply": "2022-07-23T05:41:08.099583Z"
    },
    "papermill": {
     "duration": 0.027532,
     "end_time": "2022-07-23T05:41:08.103280",
     "exception": false,
     "start_time": "2022-07-23T05:41:08.075748",
     "status": "completed"
    },
    "tags": []
   },
   "outputs": [],
   "source": [
    "import numpy as np\n",
    "import pandas as pd"
   ]
  },
  {
   "cell_type": "code",
   "execution_count": 2,
   "id": "94088fb6",
   "metadata": {
    "execution": {
     "iopub.execute_input": "2022-07-23T05:41:08.120791Z",
     "iopub.status.busy": "2022-07-23T05:41:08.119952Z",
     "iopub.status.idle": "2022-07-23T05:41:16.156674Z",
     "shell.execute_reply": "2022-07-23T05:41:16.155295Z"
    },
    "papermill": {
     "duration": 8.048924,
     "end_time": "2022-07-23T05:41:16.159865",
     "exception": false,
     "start_time": "2022-07-23T05:41:08.110941",
     "status": "completed"
    },
    "tags": []
   },
   "outputs": [],
   "source": [
    "from sklearn.preprocessing import MinMaxScaler,PowerTransformer,RobustScaler,PolynomialFeatures\n",
    "from sklearn.model_selection import train_test_split\n",
    "from sklearn.decomposition import PCA\n",
    "from sklearn.mixture import BayesianGaussianMixture\n",
    "from sklearn.cluster import DBSCAN,KMeans\n",
    "from sklearn.metrics import silhouette_score\n",
    "from tqdm import tqdm\n",
    "import keras\n",
    "import tensorflow as tf\n",
    "import matplotlib.pyplot as plt"
   ]
  },
  {
   "cell_type": "code",
   "execution_count": 3,
   "id": "a1d786b4",
   "metadata": {
    "execution": {
     "iopub.execute_input": "2022-07-23T05:41:16.176927Z",
     "iopub.status.busy": "2022-07-23T05:41:16.175602Z",
     "iopub.status.idle": "2022-07-23T05:41:17.686885Z",
     "shell.execute_reply": "2022-07-23T05:41:17.685771Z"
    },
    "papermill": {
     "duration": 1.522641,
     "end_time": "2022-07-23T05:41:17.689633",
     "exception": false,
     "start_time": "2022-07-23T05:41:16.166992",
     "status": "completed"
    },
    "tags": []
   },
   "outputs": [],
   "source": [
    "train=pd.read_csv('../input/tabular-playground-series-jul-2022/data.csv')"
   ]
  },
  {
   "cell_type": "code",
   "execution_count": 4,
   "id": "fe054ab4",
   "metadata": {
    "execution": {
     "iopub.execute_input": "2022-07-23T05:41:17.706124Z",
     "iopub.status.busy": "2022-07-23T05:41:17.705691Z",
     "iopub.status.idle": "2022-07-23T05:41:17.749846Z",
     "shell.execute_reply": "2022-07-23T05:41:17.748348Z"
    },
    "papermill": {
     "duration": 0.055621,
     "end_time": "2022-07-23T05:41:17.752587",
     "exception": false,
     "start_time": "2022-07-23T05:41:17.696966",
     "status": "completed"
    },
    "tags": []
   },
   "outputs": [
    {
     "data": {
      "text/html": [
       "<div>\n",
       "<style scoped>\n",
       "    .dataframe tbody tr th:only-of-type {\n",
       "        vertical-align: middle;\n",
       "    }\n",
       "\n",
       "    .dataframe tbody tr th {\n",
       "        vertical-align: top;\n",
       "    }\n",
       "\n",
       "    .dataframe thead th {\n",
       "        text-align: right;\n",
       "    }\n",
       "</style>\n",
       "<table border=\"1\" class=\"dataframe\">\n",
       "  <thead>\n",
       "    <tr style=\"text-align: right;\">\n",
       "      <th></th>\n",
       "      <th>id</th>\n",
       "      <th>f_00</th>\n",
       "      <th>f_01</th>\n",
       "      <th>f_02</th>\n",
       "      <th>f_03</th>\n",
       "      <th>f_04</th>\n",
       "      <th>f_05</th>\n",
       "      <th>f_06</th>\n",
       "      <th>f_07</th>\n",
       "      <th>f_08</th>\n",
       "      <th>...</th>\n",
       "      <th>f_19</th>\n",
       "      <th>f_20</th>\n",
       "      <th>f_21</th>\n",
       "      <th>f_22</th>\n",
       "      <th>f_23</th>\n",
       "      <th>f_24</th>\n",
       "      <th>f_25</th>\n",
       "      <th>f_26</th>\n",
       "      <th>f_27</th>\n",
       "      <th>f_28</th>\n",
       "    </tr>\n",
       "  </thead>\n",
       "  <tbody>\n",
       "    <tr>\n",
       "      <th>0</th>\n",
       "      <td>0</td>\n",
       "      <td>-0.389420</td>\n",
       "      <td>-0.912791</td>\n",
       "      <td>0.648951</td>\n",
       "      <td>0.589045</td>\n",
       "      <td>-0.830817</td>\n",
       "      <td>0.733624</td>\n",
       "      <td>2.258560</td>\n",
       "      <td>2</td>\n",
       "      <td>13</td>\n",
       "      <td>...</td>\n",
       "      <td>-0.478412</td>\n",
       "      <td>-0.757002</td>\n",
       "      <td>-0.763635</td>\n",
       "      <td>-1.090369</td>\n",
       "      <td>1.142641</td>\n",
       "      <td>-0.884274</td>\n",
       "      <td>1.137896</td>\n",
       "      <td>1.309073</td>\n",
       "      <td>1.463002</td>\n",
       "      <td>0.813527</td>\n",
       "    </tr>\n",
       "    <tr>\n",
       "      <th>1</th>\n",
       "      <td>1</td>\n",
       "      <td>-0.689249</td>\n",
       "      <td>-0.453954</td>\n",
       "      <td>0.654175</td>\n",
       "      <td>0.995248</td>\n",
       "      <td>-1.653020</td>\n",
       "      <td>0.863810</td>\n",
       "      <td>-0.090651</td>\n",
       "      <td>2</td>\n",
       "      <td>3</td>\n",
       "      <td>...</td>\n",
       "      <td>-0.428791</td>\n",
       "      <td>-0.089908</td>\n",
       "      <td>-1.784204</td>\n",
       "      <td>-0.839474</td>\n",
       "      <td>0.459685</td>\n",
       "      <td>1.759412</td>\n",
       "      <td>-0.275422</td>\n",
       "      <td>-0.852168</td>\n",
       "      <td>0.562457</td>\n",
       "      <td>-2.680541</td>\n",
       "    </tr>\n",
       "    <tr>\n",
       "      <th>2</th>\n",
       "      <td>2</td>\n",
       "      <td>0.809079</td>\n",
       "      <td>0.324568</td>\n",
       "      <td>-1.170602</td>\n",
       "      <td>-0.624491</td>\n",
       "      <td>0.105448</td>\n",
       "      <td>0.783948</td>\n",
       "      <td>1.988301</td>\n",
       "      <td>5</td>\n",
       "      <td>11</td>\n",
       "      <td>...</td>\n",
       "      <td>-0.413534</td>\n",
       "      <td>-1.602377</td>\n",
       "      <td>1.190984</td>\n",
       "      <td>3.267116</td>\n",
       "      <td>-0.088322</td>\n",
       "      <td>-2.168635</td>\n",
       "      <td>-0.974989</td>\n",
       "      <td>1.335763</td>\n",
       "      <td>-1.110655</td>\n",
       "      <td>-3.630723</td>\n",
       "    </tr>\n",
       "    <tr>\n",
       "      <th>3</th>\n",
       "      <td>3</td>\n",
       "      <td>-0.500923</td>\n",
       "      <td>0.229049</td>\n",
       "      <td>0.264109</td>\n",
       "      <td>0.231520</td>\n",
       "      <td>0.415012</td>\n",
       "      <td>-1.221269</td>\n",
       "      <td>0.138850</td>\n",
       "      <td>6</td>\n",
       "      <td>2</td>\n",
       "      <td>...</td>\n",
       "      <td>0.619283</td>\n",
       "      <td>1.287801</td>\n",
       "      <td>0.532837</td>\n",
       "      <td>1.036631</td>\n",
       "      <td>-2.041828</td>\n",
       "      <td>1.440490</td>\n",
       "      <td>-1.900191</td>\n",
       "      <td>-0.630771</td>\n",
       "      <td>-0.050641</td>\n",
       "      <td>0.238333</td>\n",
       "    </tr>\n",
       "    <tr>\n",
       "      <th>4</th>\n",
       "      <td>4</td>\n",
       "      <td>-0.671268</td>\n",
       "      <td>-1.039533</td>\n",
       "      <td>-0.270155</td>\n",
       "      <td>-1.830264</td>\n",
       "      <td>-0.290108</td>\n",
       "      <td>-1.852809</td>\n",
       "      <td>0.781898</td>\n",
       "      <td>8</td>\n",
       "      <td>7</td>\n",
       "      <td>...</td>\n",
       "      <td>-1.628830</td>\n",
       "      <td>-0.434948</td>\n",
       "      <td>0.322505</td>\n",
       "      <td>0.284326</td>\n",
       "      <td>-2.438365</td>\n",
       "      <td>1.473930</td>\n",
       "      <td>-1.044684</td>\n",
       "      <td>1.602686</td>\n",
       "      <td>-0.405263</td>\n",
       "      <td>-1.987263</td>\n",
       "    </tr>\n",
       "  </tbody>\n",
       "</table>\n",
       "<p>5 rows × 30 columns</p>\n",
       "</div>"
      ],
      "text/plain": [
       "   id      f_00      f_01      f_02      f_03      f_04      f_05      f_06  \\\n",
       "0   0 -0.389420 -0.912791  0.648951  0.589045 -0.830817  0.733624  2.258560   \n",
       "1   1 -0.689249 -0.453954  0.654175  0.995248 -1.653020  0.863810 -0.090651   \n",
       "2   2  0.809079  0.324568 -1.170602 -0.624491  0.105448  0.783948  1.988301   \n",
       "3   3 -0.500923  0.229049  0.264109  0.231520  0.415012 -1.221269  0.138850   \n",
       "4   4 -0.671268 -1.039533 -0.270155 -1.830264 -0.290108 -1.852809  0.781898   \n",
       "\n",
       "   f_07  f_08  ...      f_19      f_20      f_21      f_22      f_23  \\\n",
       "0     2    13  ... -0.478412 -0.757002 -0.763635 -1.090369  1.142641   \n",
       "1     2     3  ... -0.428791 -0.089908 -1.784204 -0.839474  0.459685   \n",
       "2     5    11  ... -0.413534 -1.602377  1.190984  3.267116 -0.088322   \n",
       "3     6     2  ...  0.619283  1.287801  0.532837  1.036631 -2.041828   \n",
       "4     8     7  ... -1.628830 -0.434948  0.322505  0.284326 -2.438365   \n",
       "\n",
       "       f_24      f_25      f_26      f_27      f_28  \n",
       "0 -0.884274  1.137896  1.309073  1.463002  0.813527  \n",
       "1  1.759412 -0.275422 -0.852168  0.562457 -2.680541  \n",
       "2 -2.168635 -0.974989  1.335763 -1.110655 -3.630723  \n",
       "3  1.440490 -1.900191 -0.630771 -0.050641  0.238333  \n",
       "4  1.473930 -1.044684  1.602686 -0.405263 -1.987263  \n",
       "\n",
       "[5 rows x 30 columns]"
      ]
     },
     "execution_count": 4,
     "metadata": {},
     "output_type": "execute_result"
    }
   ],
   "source": [
    "traina=train.copy()\n",
    "traina.head()"
   ]
  },
  {
   "cell_type": "code",
   "execution_count": 5,
   "id": "6f90646d",
   "metadata": {
    "execution": {
     "iopub.execute_input": "2022-07-23T05:41:17.770345Z",
     "iopub.status.busy": "2022-07-23T05:41:17.769900Z",
     "iopub.status.idle": "2022-07-23T05:41:17.777068Z",
     "shell.execute_reply": "2022-07-23T05:41:17.775841Z"
    },
    "papermill": {
     "duration": 0.019175,
     "end_time": "2022-07-23T05:41:17.779645",
     "exception": false,
     "start_time": "2022-07-23T05:41:17.760470",
     "status": "completed"
    },
    "tags": []
   },
   "outputs": [
    {
     "data": {
      "text/plain": [
       "(98000, 30)"
      ]
     },
     "execution_count": 5,
     "metadata": {},
     "output_type": "execute_result"
    }
   ],
   "source": [
    "traina.shape"
   ]
  },
  {
   "cell_type": "code",
   "execution_count": 6,
   "id": "882e585a",
   "metadata": {
    "execution": {
     "iopub.execute_input": "2022-07-23T05:41:17.797340Z",
     "iopub.status.busy": "2022-07-23T05:41:17.796479Z",
     "iopub.status.idle": "2022-07-23T05:41:17.832066Z",
     "shell.execute_reply": "2022-07-23T05:41:17.830554Z"
    },
    "papermill": {
     "duration": 0.047604,
     "end_time": "2022-07-23T05:41:17.834940",
     "exception": false,
     "start_time": "2022-07-23T05:41:17.787336",
     "status": "completed"
    },
    "tags": []
   },
   "outputs": [
    {
     "name": "stdout",
     "output_type": "stream",
     "text": [
      "<class 'pandas.core.frame.DataFrame'>\n",
      "RangeIndex: 98000 entries, 0 to 97999\n",
      "Data columns (total 30 columns):\n",
      " #   Column  Non-Null Count  Dtype  \n",
      "---  ------  --------------  -----  \n",
      " 0   id      98000 non-null  int64  \n",
      " 1   f_00    98000 non-null  float64\n",
      " 2   f_01    98000 non-null  float64\n",
      " 3   f_02    98000 non-null  float64\n",
      " 4   f_03    98000 non-null  float64\n",
      " 5   f_04    98000 non-null  float64\n",
      " 6   f_05    98000 non-null  float64\n",
      " 7   f_06    98000 non-null  float64\n",
      " 8   f_07    98000 non-null  int64  \n",
      " 9   f_08    98000 non-null  int64  \n",
      " 10  f_09    98000 non-null  int64  \n",
      " 11  f_10    98000 non-null  int64  \n",
      " 12  f_11    98000 non-null  int64  \n",
      " 13  f_12    98000 non-null  int64  \n",
      " 14  f_13    98000 non-null  int64  \n",
      " 15  f_14    98000 non-null  float64\n",
      " 16  f_15    98000 non-null  float64\n",
      " 17  f_16    98000 non-null  float64\n",
      " 18  f_17    98000 non-null  float64\n",
      " 19  f_18    98000 non-null  float64\n",
      " 20  f_19    98000 non-null  float64\n",
      " 21  f_20    98000 non-null  float64\n",
      " 22  f_21    98000 non-null  float64\n",
      " 23  f_22    98000 non-null  float64\n",
      " 24  f_23    98000 non-null  float64\n",
      " 25  f_24    98000 non-null  float64\n",
      " 26  f_25    98000 non-null  float64\n",
      " 27  f_26    98000 non-null  float64\n",
      " 28  f_27    98000 non-null  float64\n",
      " 29  f_28    98000 non-null  float64\n",
      "dtypes: float64(22), int64(8)\n",
      "memory usage: 22.4 MB\n"
     ]
    }
   ],
   "source": [
    "traina.info()"
   ]
  },
  {
   "cell_type": "code",
   "execution_count": 7,
   "id": "2f0a1388",
   "metadata": {
    "execution": {
     "iopub.execute_input": "2022-07-23T05:41:17.853846Z",
     "iopub.status.busy": "2022-07-23T05:41:17.852619Z",
     "iopub.status.idle": "2022-07-23T05:41:17.872594Z",
     "shell.execute_reply": "2022-07-23T05:41:17.871381Z"
    },
    "papermill": {
     "duration": 0.031757,
     "end_time": "2022-07-23T05:41:17.875051",
     "exception": false,
     "start_time": "2022-07-23T05:41:17.843294",
     "status": "completed"
    },
    "tags": []
   },
   "outputs": [],
   "source": [
    "train.drop(['id'],inplace=True,axis=1)"
   ]
  },
  {
   "cell_type": "code",
   "execution_count": 8,
   "id": "81604e17",
   "metadata": {
    "execution": {
     "iopub.execute_input": "2022-07-23T05:41:17.892983Z",
     "iopub.status.busy": "2022-07-23T05:41:17.892551Z",
     "iopub.status.idle": "2022-07-23T05:41:17.920109Z",
     "shell.execute_reply": "2022-07-23T05:41:17.918760Z"
    },
    "papermill": {
     "duration": 0.039749,
     "end_time": "2022-07-23T05:41:17.922802",
     "exception": false,
     "start_time": "2022-07-23T05:41:17.883053",
     "status": "completed"
    },
    "tags": []
   },
   "outputs": [
    {
     "data": {
      "text/html": [
       "<div>\n",
       "<style scoped>\n",
       "    .dataframe tbody tr th:only-of-type {\n",
       "        vertical-align: middle;\n",
       "    }\n",
       "\n",
       "    .dataframe tbody tr th {\n",
       "        vertical-align: top;\n",
       "    }\n",
       "\n",
       "    .dataframe thead th {\n",
       "        text-align: right;\n",
       "    }\n",
       "</style>\n",
       "<table border=\"1\" class=\"dataframe\">\n",
       "  <thead>\n",
       "    <tr style=\"text-align: right;\">\n",
       "      <th></th>\n",
       "      <th>f_00</th>\n",
       "      <th>f_01</th>\n",
       "      <th>f_02</th>\n",
       "      <th>f_03</th>\n",
       "      <th>f_04</th>\n",
       "      <th>f_05</th>\n",
       "      <th>f_06</th>\n",
       "      <th>f_07</th>\n",
       "      <th>f_08</th>\n",
       "      <th>f_09</th>\n",
       "      <th>...</th>\n",
       "      <th>f_19</th>\n",
       "      <th>f_20</th>\n",
       "      <th>f_21</th>\n",
       "      <th>f_22</th>\n",
       "      <th>f_23</th>\n",
       "      <th>f_24</th>\n",
       "      <th>f_25</th>\n",
       "      <th>f_26</th>\n",
       "      <th>f_27</th>\n",
       "      <th>f_28</th>\n",
       "    </tr>\n",
       "  </thead>\n",
       "  <tbody>\n",
       "    <tr>\n",
       "      <th>0</th>\n",
       "      <td>-0.389420</td>\n",
       "      <td>-0.912791</td>\n",
       "      <td>0.648951</td>\n",
       "      <td>0.589045</td>\n",
       "      <td>-0.830817</td>\n",
       "      <td>0.733624</td>\n",
       "      <td>2.258560</td>\n",
       "      <td>2</td>\n",
       "      <td>13</td>\n",
       "      <td>14</td>\n",
       "      <td>...</td>\n",
       "      <td>-0.478412</td>\n",
       "      <td>-0.757002</td>\n",
       "      <td>-0.763635</td>\n",
       "      <td>-1.090369</td>\n",
       "      <td>1.142641</td>\n",
       "      <td>-0.884274</td>\n",
       "      <td>1.137896</td>\n",
       "      <td>1.309073</td>\n",
       "      <td>1.463002</td>\n",
       "      <td>0.813527</td>\n",
       "    </tr>\n",
       "    <tr>\n",
       "      <th>1</th>\n",
       "      <td>-0.689249</td>\n",
       "      <td>-0.453954</td>\n",
       "      <td>0.654175</td>\n",
       "      <td>0.995248</td>\n",
       "      <td>-1.653020</td>\n",
       "      <td>0.863810</td>\n",
       "      <td>-0.090651</td>\n",
       "      <td>2</td>\n",
       "      <td>3</td>\n",
       "      <td>6</td>\n",
       "      <td>...</td>\n",
       "      <td>-0.428791</td>\n",
       "      <td>-0.089908</td>\n",
       "      <td>-1.784204</td>\n",
       "      <td>-0.839474</td>\n",
       "      <td>0.459685</td>\n",
       "      <td>1.759412</td>\n",
       "      <td>-0.275422</td>\n",
       "      <td>-0.852168</td>\n",
       "      <td>0.562457</td>\n",
       "      <td>-2.680541</td>\n",
       "    </tr>\n",
       "    <tr>\n",
       "      <th>2</th>\n",
       "      <td>0.809079</td>\n",
       "      <td>0.324568</td>\n",
       "      <td>-1.170602</td>\n",
       "      <td>-0.624491</td>\n",
       "      <td>0.105448</td>\n",
       "      <td>0.783948</td>\n",
       "      <td>1.988301</td>\n",
       "      <td>5</td>\n",
       "      <td>11</td>\n",
       "      <td>5</td>\n",
       "      <td>...</td>\n",
       "      <td>-0.413534</td>\n",
       "      <td>-1.602377</td>\n",
       "      <td>1.190984</td>\n",
       "      <td>3.267116</td>\n",
       "      <td>-0.088322</td>\n",
       "      <td>-2.168635</td>\n",
       "      <td>-0.974989</td>\n",
       "      <td>1.335763</td>\n",
       "      <td>-1.110655</td>\n",
       "      <td>-3.630723</td>\n",
       "    </tr>\n",
       "    <tr>\n",
       "      <th>3</th>\n",
       "      <td>-0.500923</td>\n",
       "      <td>0.229049</td>\n",
       "      <td>0.264109</td>\n",
       "      <td>0.231520</td>\n",
       "      <td>0.415012</td>\n",
       "      <td>-1.221269</td>\n",
       "      <td>0.138850</td>\n",
       "      <td>6</td>\n",
       "      <td>2</td>\n",
       "      <td>13</td>\n",
       "      <td>...</td>\n",
       "      <td>0.619283</td>\n",
       "      <td>1.287801</td>\n",
       "      <td>0.532837</td>\n",
       "      <td>1.036631</td>\n",
       "      <td>-2.041828</td>\n",
       "      <td>1.440490</td>\n",
       "      <td>-1.900191</td>\n",
       "      <td>-0.630771</td>\n",
       "      <td>-0.050641</td>\n",
       "      <td>0.238333</td>\n",
       "    </tr>\n",
       "    <tr>\n",
       "      <th>4</th>\n",
       "      <td>-0.671268</td>\n",
       "      <td>-1.039533</td>\n",
       "      <td>-0.270155</td>\n",
       "      <td>-1.830264</td>\n",
       "      <td>-0.290108</td>\n",
       "      <td>-1.852809</td>\n",
       "      <td>0.781898</td>\n",
       "      <td>8</td>\n",
       "      <td>7</td>\n",
       "      <td>5</td>\n",
       "      <td>...</td>\n",
       "      <td>-1.628830</td>\n",
       "      <td>-0.434948</td>\n",
       "      <td>0.322505</td>\n",
       "      <td>0.284326</td>\n",
       "      <td>-2.438365</td>\n",
       "      <td>1.473930</td>\n",
       "      <td>-1.044684</td>\n",
       "      <td>1.602686</td>\n",
       "      <td>-0.405263</td>\n",
       "      <td>-1.987263</td>\n",
       "    </tr>\n",
       "  </tbody>\n",
       "</table>\n",
       "<p>5 rows × 29 columns</p>\n",
       "</div>"
      ],
      "text/plain": [
       "       f_00      f_01      f_02      f_03      f_04      f_05      f_06  f_07  \\\n",
       "0 -0.389420 -0.912791  0.648951  0.589045 -0.830817  0.733624  2.258560     2   \n",
       "1 -0.689249 -0.453954  0.654175  0.995248 -1.653020  0.863810 -0.090651     2   \n",
       "2  0.809079  0.324568 -1.170602 -0.624491  0.105448  0.783948  1.988301     5   \n",
       "3 -0.500923  0.229049  0.264109  0.231520  0.415012 -1.221269  0.138850     6   \n",
       "4 -0.671268 -1.039533 -0.270155 -1.830264 -0.290108 -1.852809  0.781898     8   \n",
       "\n",
       "   f_08  f_09  ...      f_19      f_20      f_21      f_22      f_23  \\\n",
       "0    13    14  ... -0.478412 -0.757002 -0.763635 -1.090369  1.142641   \n",
       "1     3     6  ... -0.428791 -0.089908 -1.784204 -0.839474  0.459685   \n",
       "2    11     5  ... -0.413534 -1.602377  1.190984  3.267116 -0.088322   \n",
       "3     2    13  ...  0.619283  1.287801  0.532837  1.036631 -2.041828   \n",
       "4     7     5  ... -1.628830 -0.434948  0.322505  0.284326 -2.438365   \n",
       "\n",
       "       f_24      f_25      f_26      f_27      f_28  \n",
       "0 -0.884274  1.137896  1.309073  1.463002  0.813527  \n",
       "1  1.759412 -0.275422 -0.852168  0.562457 -2.680541  \n",
       "2 -2.168635 -0.974989  1.335763 -1.110655 -3.630723  \n",
       "3  1.440490 -1.900191 -0.630771 -0.050641  0.238333  \n",
       "4  1.473930 -1.044684  1.602686 -0.405263 -1.987263  \n",
       "\n",
       "[5 rows x 29 columns]"
      ]
     },
     "execution_count": 8,
     "metadata": {},
     "output_type": "execute_result"
    }
   ],
   "source": [
    "train.head()"
   ]
  },
  {
   "cell_type": "code",
   "execution_count": 9,
   "id": "df33e5e6",
   "metadata": {
    "execution": {
     "iopub.execute_input": "2022-07-23T05:41:17.941695Z",
     "iopub.status.busy": "2022-07-23T05:41:17.940841Z",
     "iopub.status.idle": "2022-07-23T05:41:18.740507Z",
     "shell.execute_reply": "2022-07-23T05:41:18.739302Z"
    },
    "papermill": {
     "duration": 0.811989,
     "end_time": "2022-07-23T05:41:18.742980",
     "exception": false,
     "start_time": "2022-07-23T05:41:17.930991",
     "status": "completed"
    },
    "tags": []
   },
   "outputs": [
    {
     "data": {
      "text/plain": [
       "(98000, 464)"
      ]
     },
     "execution_count": 9,
     "metadata": {},
     "output_type": "execute_result"
    }
   ],
   "source": [
    "polynomial_features=PolynomialFeatures(include_bias=False)\n",
    "train=polynomial_features.fit_transform(train)\n",
    "train.shape\n"
   ]
  },
  {
   "cell_type": "code",
   "execution_count": 10,
   "id": "dfbc37df",
   "metadata": {
    "execution": {
     "iopub.execute_input": "2022-07-23T05:41:18.762132Z",
     "iopub.status.busy": "2022-07-23T05:41:18.761039Z",
     "iopub.status.idle": "2022-07-23T05:41:18.766207Z",
     "shell.execute_reply": "2022-07-23T05:41:18.765090Z"
    },
    "papermill": {
     "duration": 0.01741,
     "end_time": "2022-07-23T05:41:18.768678",
     "exception": false,
     "start_time": "2022-07-23T05:41:18.751268",
     "status": "completed"
    },
    "tags": []
   },
   "outputs": [],
   "source": [
    "# def coll(x:pd.DataFrame,bound:float):\n",
    "#     xCorr=x.corr()\n",
    "#     xFiltered = xCorr[((xCorr >= bound) | (xCorr <= -bound)) & (xCorr !=1.000)]\n",
    "#     xFlattened=xFiltered.unstack().sort_values().drop_duplicates()\n",
    "#     return xFlattened"
   ]
  },
  {
   "cell_type": "code",
   "execution_count": 11,
   "id": "bab7082d",
   "metadata": {
    "execution": {
     "iopub.execute_input": "2022-07-23T05:41:18.788705Z",
     "iopub.status.busy": "2022-07-23T05:41:18.787511Z",
     "iopub.status.idle": "2022-07-23T05:41:18.792546Z",
     "shell.execute_reply": "2022-07-23T05:41:18.791643Z"
    },
    "papermill": {
     "duration": 0.016874,
     "end_time": "2022-07-23T05:41:18.794733",
     "exception": false,
     "start_time": "2022-07-23T05:41:18.777859",
     "status": "completed"
    },
    "tags": []
   },
   "outputs": [],
   "source": [
    "#coll(pd.DataFrame(train),0.98)"
   ]
  },
  {
   "cell_type": "code",
   "execution_count": 12,
   "id": "1e577c71",
   "metadata": {
    "execution": {
     "iopub.execute_input": "2022-07-23T05:41:18.813768Z",
     "iopub.status.busy": "2022-07-23T05:41:18.812979Z",
     "iopub.status.idle": "2022-07-23T05:41:23.770824Z",
     "shell.execute_reply": "2022-07-23T05:41:23.769676Z"
    },
    "papermill": {
     "duration": 4.970455,
     "end_time": "2022-07-23T05:41:23.773453",
     "exception": false,
     "start_time": "2022-07-23T05:41:18.802998",
     "status": "completed"
    },
    "tags": []
   },
   "outputs": [
    {
     "data": {
      "text/plain": [
       "array([0.27129542, 0.13225993, 0.11364444, 0.07929821, 0.06551034,\n",
       "       0.06402066, 0.04764345, 0.01570271, 0.01002712, 0.00905863])"
      ]
     },
     "execution_count": 12,
     "metadata": {},
     "output_type": "execute_result"
    }
   ],
   "source": [
    "pca=PCA(n_components=10)\n",
    "pca.fit(train)\n",
    "pca.explained_variance_ratio_"
   ]
  },
  {
   "cell_type": "code",
   "execution_count": 13,
   "id": "4fc14754",
   "metadata": {
    "execution": {
     "iopub.execute_input": "2022-07-23T05:41:23.792433Z",
     "iopub.status.busy": "2022-07-23T05:41:23.791981Z",
     "iopub.status.idle": "2022-07-23T05:41:27.548788Z",
     "shell.execute_reply": "2022-07-23T05:41:27.547697Z"
    },
    "papermill": {
     "duration": 3.769749,
     "end_time": "2022-07-23T05:41:27.551738",
     "exception": false,
     "start_time": "2022-07-23T05:41:23.781989",
     "status": "completed"
    },
    "tags": []
   },
   "outputs": [],
   "source": [
    "pca=PCA(n_components=7)\n",
    "pca_cols=pca.fit_transform(train)"
   ]
  },
  {
   "cell_type": "code",
   "execution_count": 14,
   "id": "372a8d75",
   "metadata": {
    "execution": {
     "iopub.execute_input": "2022-07-23T05:41:27.570615Z",
     "iopub.status.busy": "2022-07-23T05:41:27.570005Z",
     "iopub.status.idle": "2022-07-23T05:41:27.576233Z",
     "shell.execute_reply": "2022-07-23T05:41:27.575485Z"
    },
    "papermill": {
     "duration": 0.018451,
     "end_time": "2022-07-23T05:41:27.578625",
     "exception": false,
     "start_time": "2022-07-23T05:41:27.560174",
     "status": "completed"
    },
    "tags": []
   },
   "outputs": [
    {
     "data": {
      "text/plain": [
       "(98000, 464)"
      ]
     },
     "execution_count": 14,
     "metadata": {},
     "output_type": "execute_result"
    }
   ],
   "source": [
    "train.shape"
   ]
  },
  {
   "cell_type": "code",
   "execution_count": 15,
   "id": "9ea7915f",
   "metadata": {
    "execution": {
     "iopub.execute_input": "2022-07-23T05:41:27.598115Z",
     "iopub.status.busy": "2022-07-23T05:41:27.596841Z",
     "iopub.status.idle": "2022-07-23T05:41:28.285828Z",
     "shell.execute_reply": "2022-07-23T05:41:28.284543Z"
    },
    "papermill": {
     "duration": 0.70193,
     "end_time": "2022-07-23T05:41:28.288987",
     "exception": false,
     "start_time": "2022-07-23T05:41:27.587057",
     "status": "completed"
    },
    "tags": []
   },
   "outputs": [
    {
     "data": {
      "text/plain": [
       "array([9.99999785e-01, 5.56361721e-08, 3.23840921e-08, 2.95671103e-08,\n",
       "       1.87507843e-08, 1.69483716e-08, 1.56958717e-08, 8.80878324e-09,\n",
       "       3.53134524e-09, 3.32384172e-09])"
      ]
     },
     "execution_count": 15,
     "metadata": {},
     "output_type": "execute_result"
    }
   ],
   "source": [
    "pca=PCA(n_components=10)\n",
    "pca.fit(traina)\n",
    "pca.explained_variance_ratio_"
   ]
  },
  {
   "cell_type": "code",
   "execution_count": 16,
   "id": "9abd9c82",
   "metadata": {
    "execution": {
     "iopub.execute_input": "2022-07-23T05:41:28.327156Z",
     "iopub.status.busy": "2022-07-23T05:41:28.326524Z",
     "iopub.status.idle": "2022-07-23T05:41:28.941467Z",
     "shell.execute_reply": "2022-07-23T05:41:28.940264Z"
    },
    "papermill": {
     "duration": 0.635547,
     "end_time": "2022-07-23T05:41:28.945339",
     "exception": false,
     "start_time": "2022-07-23T05:41:28.309792",
     "status": "completed"
    },
    "tags": []
   },
   "outputs": [
    {
     "data": {
      "text/plain": [
       "(98000, 30)"
      ]
     },
     "execution_count": 16,
     "metadata": {},
     "output_type": "execute_result"
    }
   ],
   "source": [
    "pca=PCA(n_components=1)\n",
    "pca_col=pca.fit_transform(traina)\n",
    "traina.shape"
   ]
  },
  {
   "cell_type": "code",
   "execution_count": 17,
   "id": "b34e8da3",
   "metadata": {
    "execution": {
     "iopub.execute_input": "2022-07-23T05:41:28.999257Z",
     "iopub.status.busy": "2022-07-23T05:41:28.998443Z",
     "iopub.status.idle": "2022-07-23T05:41:29.037148Z",
     "shell.execute_reply": "2022-07-23T05:41:29.036222Z"
    },
    "papermill": {
     "duration": 0.072772,
     "end_time": "2022-07-23T05:41:29.039255",
     "exception": false,
     "start_time": "2022-07-23T05:41:28.966483",
     "status": "completed"
    },
    "tags": []
   },
   "outputs": [
    {
     "data": {
      "text/html": [
       "<div>\n",
       "<style scoped>\n",
       "    .dataframe tbody tr th:only-of-type {\n",
       "        vertical-align: middle;\n",
       "    }\n",
       "\n",
       "    .dataframe tbody tr th {\n",
       "        vertical-align: top;\n",
       "    }\n",
       "\n",
       "    .dataframe thead th {\n",
       "        text-align: right;\n",
       "    }\n",
       "</style>\n",
       "<table border=\"1\" class=\"dataframe\">\n",
       "  <thead>\n",
       "    <tr style=\"text-align: right;\">\n",
       "      <th></th>\n",
       "      <th>id</th>\n",
       "      <th>f_00</th>\n",
       "      <th>f_01</th>\n",
       "      <th>f_02</th>\n",
       "      <th>f_03</th>\n",
       "      <th>f_04</th>\n",
       "      <th>f_05</th>\n",
       "      <th>f_06</th>\n",
       "      <th>f_07</th>\n",
       "      <th>f_08</th>\n",
       "      <th>...</th>\n",
       "      <th>f_20</th>\n",
       "      <th>f_21</th>\n",
       "      <th>f_22</th>\n",
       "      <th>f_23</th>\n",
       "      <th>f_24</th>\n",
       "      <th>f_25</th>\n",
       "      <th>f_26</th>\n",
       "      <th>f_27</th>\n",
       "      <th>f_28</th>\n",
       "      <th>pca</th>\n",
       "    </tr>\n",
       "  </thead>\n",
       "  <tbody>\n",
       "    <tr>\n",
       "      <th>0</th>\n",
       "      <td>0</td>\n",
       "      <td>-0.389420</td>\n",
       "      <td>-0.912791</td>\n",
       "      <td>0.648951</td>\n",
       "      <td>0.589045</td>\n",
       "      <td>-0.830817</td>\n",
       "      <td>0.733624</td>\n",
       "      <td>2.258560</td>\n",
       "      <td>2</td>\n",
       "      <td>13</td>\n",
       "      <td>...</td>\n",
       "      <td>-0.757002</td>\n",
       "      <td>-0.763635</td>\n",
       "      <td>-1.090369</td>\n",
       "      <td>1.142641</td>\n",
       "      <td>-0.884274</td>\n",
       "      <td>1.137896</td>\n",
       "      <td>1.309073</td>\n",
       "      <td>1.463002</td>\n",
       "      <td>0.813527</td>\n",
       "      <td>-48999.499995</td>\n",
       "    </tr>\n",
       "    <tr>\n",
       "      <th>1</th>\n",
       "      <td>1</td>\n",
       "      <td>-0.689249</td>\n",
       "      <td>-0.453954</td>\n",
       "      <td>0.654175</td>\n",
       "      <td>0.995248</td>\n",
       "      <td>-1.653020</td>\n",
       "      <td>0.863810</td>\n",
       "      <td>-0.090651</td>\n",
       "      <td>2</td>\n",
       "      <td>3</td>\n",
       "      <td>...</td>\n",
       "      <td>-0.089908</td>\n",
       "      <td>-1.784204</td>\n",
       "      <td>-0.839474</td>\n",
       "      <td>0.459685</td>\n",
       "      <td>1.759412</td>\n",
       "      <td>-0.275422</td>\n",
       "      <td>-0.852168</td>\n",
       "      <td>0.562457</td>\n",
       "      <td>-2.680541</td>\n",
       "      <td>-48998.500003</td>\n",
       "    </tr>\n",
       "    <tr>\n",
       "      <th>2</th>\n",
       "      <td>2</td>\n",
       "      <td>0.809079</td>\n",
       "      <td>0.324568</td>\n",
       "      <td>-1.170602</td>\n",
       "      <td>-0.624491</td>\n",
       "      <td>0.105448</td>\n",
       "      <td>0.783948</td>\n",
       "      <td>1.988301</td>\n",
       "      <td>5</td>\n",
       "      <td>11</td>\n",
       "      <td>...</td>\n",
       "      <td>-1.602377</td>\n",
       "      <td>1.190984</td>\n",
       "      <td>3.267116</td>\n",
       "      <td>-0.088322</td>\n",
       "      <td>-2.168635</td>\n",
       "      <td>-0.974989</td>\n",
       "      <td>1.335763</td>\n",
       "      <td>-1.110655</td>\n",
       "      <td>-3.630723</td>\n",
       "      <td>-48997.499998</td>\n",
       "    </tr>\n",
       "    <tr>\n",
       "      <th>3</th>\n",
       "      <td>3</td>\n",
       "      <td>-0.500923</td>\n",
       "      <td>0.229049</td>\n",
       "      <td>0.264109</td>\n",
       "      <td>0.231520</td>\n",
       "      <td>0.415012</td>\n",
       "      <td>-1.221269</td>\n",
       "      <td>0.138850</td>\n",
       "      <td>6</td>\n",
       "      <td>2</td>\n",
       "      <td>...</td>\n",
       "      <td>1.287801</td>\n",
       "      <td>0.532837</td>\n",
       "      <td>1.036631</td>\n",
       "      <td>-2.041828</td>\n",
       "      <td>1.440490</td>\n",
       "      <td>-1.900191</td>\n",
       "      <td>-0.630771</td>\n",
       "      <td>-0.050641</td>\n",
       "      <td>0.238333</td>\n",
       "      <td>-48996.500001</td>\n",
       "    </tr>\n",
       "    <tr>\n",
       "      <th>4</th>\n",
       "      <td>4</td>\n",
       "      <td>-0.671268</td>\n",
       "      <td>-1.039533</td>\n",
       "      <td>-0.270155</td>\n",
       "      <td>-1.830264</td>\n",
       "      <td>-0.290108</td>\n",
       "      <td>-1.852809</td>\n",
       "      <td>0.781898</td>\n",
       "      <td>8</td>\n",
       "      <td>7</td>\n",
       "      <td>...</td>\n",
       "      <td>-0.434948</td>\n",
       "      <td>0.322505</td>\n",
       "      <td>0.284326</td>\n",
       "      <td>-2.438365</td>\n",
       "      <td>1.473930</td>\n",
       "      <td>-1.044684</td>\n",
       "      <td>1.602686</td>\n",
       "      <td>-0.405263</td>\n",
       "      <td>-1.987263</td>\n",
       "      <td>-48995.500007</td>\n",
       "    </tr>\n",
       "  </tbody>\n",
       "</table>\n",
       "<p>5 rows × 31 columns</p>\n",
       "</div>"
      ],
      "text/plain": [
       "   id      f_00      f_01      f_02      f_03      f_04      f_05      f_06  \\\n",
       "0   0 -0.389420 -0.912791  0.648951  0.589045 -0.830817  0.733624  2.258560   \n",
       "1   1 -0.689249 -0.453954  0.654175  0.995248 -1.653020  0.863810 -0.090651   \n",
       "2   2  0.809079  0.324568 -1.170602 -0.624491  0.105448  0.783948  1.988301   \n",
       "3   3 -0.500923  0.229049  0.264109  0.231520  0.415012 -1.221269  0.138850   \n",
       "4   4 -0.671268 -1.039533 -0.270155 -1.830264 -0.290108 -1.852809  0.781898   \n",
       "\n",
       "   f_07  f_08  ...      f_20      f_21      f_22      f_23      f_24  \\\n",
       "0     2    13  ... -0.757002 -0.763635 -1.090369  1.142641 -0.884274   \n",
       "1     2     3  ... -0.089908 -1.784204 -0.839474  0.459685  1.759412   \n",
       "2     5    11  ... -1.602377  1.190984  3.267116 -0.088322 -2.168635   \n",
       "3     6     2  ...  1.287801  0.532837  1.036631 -2.041828  1.440490   \n",
       "4     8     7  ... -0.434948  0.322505  0.284326 -2.438365  1.473930   \n",
       "\n",
       "       f_25      f_26      f_27      f_28           pca  \n",
       "0  1.137896  1.309073  1.463002  0.813527 -48999.499995  \n",
       "1 -0.275422 -0.852168  0.562457 -2.680541 -48998.500003  \n",
       "2 -0.974989  1.335763 -1.110655 -3.630723 -48997.499998  \n",
       "3 -1.900191 -0.630771 -0.050641  0.238333 -48996.500001  \n",
       "4 -1.044684  1.602686 -0.405263 -1.987263 -48995.500007  \n",
       "\n",
       "[5 rows x 31 columns]"
      ]
     },
     "execution_count": 17,
     "metadata": {},
     "output_type": "execute_result"
    }
   ],
   "source": [
    "traina['pca']=pca_col\n",
    "traina.head()"
   ]
  },
  {
   "cell_type": "code",
   "execution_count": 18,
   "id": "2eaf9615",
   "metadata": {
    "execution": {
     "iopub.execute_input": "2022-07-23T05:41:29.059268Z",
     "iopub.status.busy": "2022-07-23T05:41:29.058508Z",
     "iopub.status.idle": "2022-07-23T05:41:29.063743Z",
     "shell.execute_reply": "2022-07-23T05:41:29.062775Z"
    },
    "papermill": {
     "duration": 0.017817,
     "end_time": "2022-07-23T05:41:29.065928",
     "exception": false,
     "start_time": "2022-07-23T05:41:29.048111",
     "status": "completed"
    },
    "tags": []
   },
   "outputs": [],
   "source": [
    "all_columns=[col for col in traina.columns]\n",
    "best_columns=['f_07','f_08', 'f_09', 'f_10','f_11', 'f_12', 'f_13', 'f_22','f_23', 'f_24', 'f_25','f_26','f_27', 'f_28','pca']\n",
    "              "
   ]
  },
  {
   "cell_type": "code",
   "execution_count": 19,
   "id": "e7f2c83e",
   "metadata": {
    "execution": {
     "iopub.execute_input": "2022-07-23T05:41:29.085812Z",
     "iopub.status.busy": "2022-07-23T05:41:29.085053Z",
     "iopub.status.idle": "2022-07-23T05:41:29.102861Z",
     "shell.execute_reply": "2022-07-23T05:41:29.101901Z"
    },
    "papermill": {
     "duration": 0.030677,
     "end_time": "2022-07-23T05:41:29.105364",
     "exception": false,
     "start_time": "2022-07-23T05:41:29.074687",
     "status": "completed"
    },
    "tags": []
   },
   "outputs": [],
   "source": [
    "drop_cols=[col for col in all_columns if col not in best_columns]\n",
    "traina=traina.drop(drop_cols,axis=1)"
   ]
  },
  {
   "cell_type": "code",
   "execution_count": 20,
   "id": "0fc5405e",
   "metadata": {
    "execution": {
     "iopub.execute_input": "2022-07-23T05:41:29.125253Z",
     "iopub.status.busy": "2022-07-23T05:41:29.124502Z",
     "iopub.status.idle": "2022-07-23T05:41:29.158482Z",
     "shell.execute_reply": "2022-07-23T05:41:29.157364Z"
    },
    "papermill": {
     "duration": 0.046927,
     "end_time": "2022-07-23T05:41:29.161199",
     "exception": false,
     "start_time": "2022-07-23T05:41:29.114272",
     "status": "completed"
    },
    "tags": []
   },
   "outputs": [
    {
     "data": {
      "text/html": [
       "<div>\n",
       "<style scoped>\n",
       "    .dataframe tbody tr th:only-of-type {\n",
       "        vertical-align: middle;\n",
       "    }\n",
       "\n",
       "    .dataframe tbody tr th {\n",
       "        vertical-align: top;\n",
       "    }\n",
       "\n",
       "    .dataframe thead th {\n",
       "        text-align: right;\n",
       "    }\n",
       "</style>\n",
       "<table border=\"1\" class=\"dataframe\">\n",
       "  <thead>\n",
       "    <tr style=\"text-align: right;\">\n",
       "      <th></th>\n",
       "      <th>f_07</th>\n",
       "      <th>f_08</th>\n",
       "      <th>f_09</th>\n",
       "      <th>f_10</th>\n",
       "      <th>f_11</th>\n",
       "      <th>f_12</th>\n",
       "      <th>f_13</th>\n",
       "      <th>f_22</th>\n",
       "      <th>f_23</th>\n",
       "      <th>f_24</th>\n",
       "      <th>...</th>\n",
       "      <th>f_27</th>\n",
       "      <th>f_28</th>\n",
       "      <th>pca</th>\n",
       "      <th>0</th>\n",
       "      <th>1</th>\n",
       "      <th>2</th>\n",
       "      <th>3</th>\n",
       "      <th>4</th>\n",
       "      <th>5</th>\n",
       "      <th>6</th>\n",
       "    </tr>\n",
       "  </thead>\n",
       "  <tbody>\n",
       "    <tr>\n",
       "      <th>0</th>\n",
       "      <td>2</td>\n",
       "      <td>13</td>\n",
       "      <td>14</td>\n",
       "      <td>5</td>\n",
       "      <td>13</td>\n",
       "      <td>6</td>\n",
       "      <td>6</td>\n",
       "      <td>-1.090369</td>\n",
       "      <td>1.142641</td>\n",
       "      <td>-0.884274</td>\n",
       "      <td>...</td>\n",
       "      <td>1.463002</td>\n",
       "      <td>0.813527</td>\n",
       "      <td>-48999.499995</td>\n",
       "      <td>51.620426</td>\n",
       "      <td>-145.343167</td>\n",
       "      <td>-87.536281</td>\n",
       "      <td>192.899527</td>\n",
       "      <td>-73.205802</td>\n",
       "      <td>-24.996833</td>\n",
       "      <td>22.214809</td>\n",
       "    </tr>\n",
       "    <tr>\n",
       "      <th>1</th>\n",
       "      <td>2</td>\n",
       "      <td>3</td>\n",
       "      <td>6</td>\n",
       "      <td>4</td>\n",
       "      <td>6</td>\n",
       "      <td>16</td>\n",
       "      <td>9</td>\n",
       "      <td>-0.839474</td>\n",
       "      <td>0.459685</td>\n",
       "      <td>1.759412</td>\n",
       "      <td>...</td>\n",
       "      <td>0.562457</td>\n",
       "      <td>-2.680541</td>\n",
       "      <td>-48998.500003</td>\n",
       "      <td>-106.123407</td>\n",
       "      <td>14.307948</td>\n",
       "      <td>235.898205</td>\n",
       "      <td>27.357764</td>\n",
       "      <td>20.696985</td>\n",
       "      <td>-42.663569</td>\n",
       "      <td>-52.224420</td>\n",
       "    </tr>\n",
       "    <tr>\n",
       "      <th>2</th>\n",
       "      <td>5</td>\n",
       "      <td>11</td>\n",
       "      <td>5</td>\n",
       "      <td>8</td>\n",
       "      <td>9</td>\n",
       "      <td>3</td>\n",
       "      <td>11</td>\n",
       "      <td>3.267116</td>\n",
       "      <td>-0.088322</td>\n",
       "      <td>-2.168635</td>\n",
       "      <td>...</td>\n",
       "      <td>-1.110655</td>\n",
       "      <td>-3.630723</td>\n",
       "      <td>-48997.499998</td>\n",
       "      <td>-106.382882</td>\n",
       "      <td>-31.758173</td>\n",
       "      <td>-74.351362</td>\n",
       "      <td>-11.771472</td>\n",
       "      <td>-110.939117</td>\n",
       "      <td>67.765244</td>\n",
       "      <td>26.098745</td>\n",
       "    </tr>\n",
       "    <tr>\n",
       "      <th>3</th>\n",
       "      <td>6</td>\n",
       "      <td>2</td>\n",
       "      <td>13</td>\n",
       "      <td>8</td>\n",
       "      <td>9</td>\n",
       "      <td>6</td>\n",
       "      <td>4</td>\n",
       "      <td>1.036631</td>\n",
       "      <td>-2.041828</td>\n",
       "      <td>1.440490</td>\n",
       "      <td>...</td>\n",
       "      <td>-0.050641</td>\n",
       "      <td>0.238333</td>\n",
       "      <td>-48996.500001</td>\n",
       "      <td>115.970045</td>\n",
       "      <td>-41.789222</td>\n",
       "      <td>11.110871</td>\n",
       "      <td>-31.131649</td>\n",
       "      <td>61.147623</td>\n",
       "      <td>3.765669</td>\n",
       "      <td>-51.365724</td>\n",
       "    </tr>\n",
       "    <tr>\n",
       "      <th>4</th>\n",
       "      <td>8</td>\n",
       "      <td>7</td>\n",
       "      <td>5</td>\n",
       "      <td>3</td>\n",
       "      <td>1</td>\n",
       "      <td>13</td>\n",
       "      <td>11</td>\n",
       "      <td>0.284326</td>\n",
       "      <td>-2.438365</td>\n",
       "      <td>1.473930</td>\n",
       "      <td>...</td>\n",
       "      <td>-0.405263</td>\n",
       "      <td>-1.987263</td>\n",
       "      <td>-48995.500007</td>\n",
       "      <td>-113.990104</td>\n",
       "      <td>-5.605761</td>\n",
       "      <td>182.202370</td>\n",
       "      <td>-85.024549</td>\n",
       "      <td>-60.348751</td>\n",
       "      <td>-50.246881</td>\n",
       "      <td>59.481398</td>\n",
       "    </tr>\n",
       "  </tbody>\n",
       "</table>\n",
       "<p>5 rows × 22 columns</p>\n",
       "</div>"
      ],
      "text/plain": [
       "   f_07  f_08  f_09  f_10  f_11  f_12  f_13      f_22      f_23      f_24  \\\n",
       "0     2    13    14     5    13     6     6 -1.090369  1.142641 -0.884274   \n",
       "1     2     3     6     4     6    16     9 -0.839474  0.459685  1.759412   \n",
       "2     5    11     5     8     9     3    11  3.267116 -0.088322 -2.168635   \n",
       "3     6     2    13     8     9     6     4  1.036631 -2.041828  1.440490   \n",
       "4     8     7     5     3     1    13    11  0.284326 -2.438365  1.473930   \n",
       "\n",
       "   ...      f_27      f_28           pca           0           1           2  \\\n",
       "0  ...  1.463002  0.813527 -48999.499995   51.620426 -145.343167  -87.536281   \n",
       "1  ...  0.562457 -2.680541 -48998.500003 -106.123407   14.307948  235.898205   \n",
       "2  ... -1.110655 -3.630723 -48997.499998 -106.382882  -31.758173  -74.351362   \n",
       "3  ... -0.050641  0.238333 -48996.500001  115.970045  -41.789222   11.110871   \n",
       "4  ... -0.405263 -1.987263 -48995.500007 -113.990104   -5.605761  182.202370   \n",
       "\n",
       "            3           4          5          6  \n",
       "0  192.899527  -73.205802 -24.996833  22.214809  \n",
       "1   27.357764   20.696985 -42.663569 -52.224420  \n",
       "2  -11.771472 -110.939117  67.765244  26.098745  \n",
       "3  -31.131649   61.147623   3.765669 -51.365724  \n",
       "4  -85.024549  -60.348751 -50.246881  59.481398  \n",
       "\n",
       "[5 rows x 22 columns]"
      ]
     },
     "execution_count": 20,
     "metadata": {},
     "output_type": "execute_result"
    }
   ],
   "source": [
    "train = pd.concat([pd.DataFrame(traina), pd.DataFrame(pca_cols)], axis = 1)\n",
    "train.head()"
   ]
  },
  {
   "cell_type": "code",
   "execution_count": 21,
   "id": "084489ab",
   "metadata": {
    "execution": {
     "iopub.execute_input": "2022-07-23T05:41:29.182127Z",
     "iopub.status.busy": "2022-07-23T05:41:29.181213Z",
     "iopub.status.idle": "2022-07-23T05:41:29.186906Z",
     "shell.execute_reply": "2022-07-23T05:41:29.186060Z"
    },
    "papermill": {
     "duration": 0.01848,
     "end_time": "2022-07-23T05:41:29.189070",
     "exception": false,
     "start_time": "2022-07-23T05:41:29.170590",
     "status": "completed"
    },
    "tags": []
   },
   "outputs": [],
   "source": [
    "train.columns=[str(i) for i in train.columns.tolist()]"
   ]
  },
  {
   "cell_type": "code",
   "execution_count": 22,
   "id": "03f7777a",
   "metadata": {
    "execution": {
     "iopub.execute_input": "2022-07-23T05:41:29.209705Z",
     "iopub.status.busy": "2022-07-23T05:41:29.208830Z",
     "iopub.status.idle": "2022-07-23T05:41:32.199113Z",
     "shell.execute_reply": "2022-07-23T05:41:32.197902Z"
    },
    "papermill": {
     "duration": 3.003428,
     "end_time": "2022-07-23T05:41:32.201735",
     "exception": false,
     "start_time": "2022-07-23T05:41:29.198307",
     "status": "completed"
    },
    "tags": []
   },
   "outputs": [],
   "source": [
    "robust=RobustScaler()\n",
    "power=PowerTransformer()\n",
    "train=power.fit_transform(train)\n",
    "train=robust.fit_transform(train)"
   ]
  },
  {
   "cell_type": "code",
   "execution_count": 23,
   "id": "ac1f51b6",
   "metadata": {
    "execution": {
     "iopub.execute_input": "2022-07-23T05:41:32.222503Z",
     "iopub.status.busy": "2022-07-23T05:41:32.221428Z",
     "iopub.status.idle": "2022-07-23T05:41:32.396383Z",
     "shell.execute_reply": "2022-07-23T05:41:32.395091Z"
    },
    "papermill": {
     "duration": 0.188243,
     "end_time": "2022-07-23T05:41:32.399172",
     "exception": false,
     "start_time": "2022-07-23T05:41:32.210929",
     "status": "completed"
    },
    "tags": []
   },
   "outputs": [
    {
     "data": {
      "text/html": [
       "<div>\n",
       "<style scoped>\n",
       "    .dataframe tbody tr th:only-of-type {\n",
       "        vertical-align: middle;\n",
       "    }\n",
       "\n",
       "    .dataframe tbody tr th {\n",
       "        vertical-align: top;\n",
       "    }\n",
       "\n",
       "    .dataframe thead th {\n",
       "        text-align: right;\n",
       "    }\n",
       "</style>\n",
       "<table border=\"1\" class=\"dataframe\">\n",
       "  <thead>\n",
       "    <tr style=\"text-align: right;\">\n",
       "      <th></th>\n",
       "      <th>0</th>\n",
       "      <th>1</th>\n",
       "      <th>2</th>\n",
       "      <th>3</th>\n",
       "      <th>4</th>\n",
       "      <th>5</th>\n",
       "      <th>6</th>\n",
       "      <th>7</th>\n",
       "      <th>8</th>\n",
       "      <th>9</th>\n",
       "      <th>...</th>\n",
       "      <th>12</th>\n",
       "      <th>13</th>\n",
       "      <th>14</th>\n",
       "      <th>15</th>\n",
       "      <th>16</th>\n",
       "      <th>17</th>\n",
       "      <th>18</th>\n",
       "      <th>19</th>\n",
       "      <th>20</th>\n",
       "      <th>21</th>\n",
       "    </tr>\n",
       "  </thead>\n",
       "  <tbody>\n",
       "    <tr>\n",
       "      <th>count</th>\n",
       "      <td>98000.000000</td>\n",
       "      <td>98000.000000</td>\n",
       "      <td>98000.000000</td>\n",
       "      <td>98000.000000</td>\n",
       "      <td>98000.000000</td>\n",
       "      <td>98000.000000</td>\n",
       "      <td>98000.000000</td>\n",
       "      <td>98000.000000</td>\n",
       "      <td>9.800000e+04</td>\n",
       "      <td>98000.000000</td>\n",
       "      <td>...</td>\n",
       "      <td>9.800000e+04</td>\n",
       "      <td>98000.000000</td>\n",
       "      <td>9.800000e+04</td>\n",
       "      <td>9.800000e+04</td>\n",
       "      <td>9.800000e+04</td>\n",
       "      <td>9.800000e+04</td>\n",
       "      <td>9.800000e+04</td>\n",
       "      <td>9.800000e+04</td>\n",
       "      <td>98000.000000</td>\n",
       "      <td>98000.000000</td>\n",
       "    </tr>\n",
       "    <tr>\n",
       "      <th>mean</th>\n",
       "      <td>-0.016028</td>\n",
       "      <td>0.040810</td>\n",
       "      <td>-0.010857</td>\n",
       "      <td>0.071192</td>\n",
       "      <td>-0.047298</td>\n",
       "      <td>0.061003</td>\n",
       "      <td>-0.058401</td>\n",
       "      <td>0.001370</td>\n",
       "      <td>3.585112e-04</td>\n",
       "      <td>-0.003573</td>\n",
       "      <td>...</td>\n",
       "      <td>-1.521723e-03</td>\n",
       "      <td>0.004043</td>\n",
       "      <td>-1.911858e-09</td>\n",
       "      <td>2.697484e-02</td>\n",
       "      <td>-1.197292e-03</td>\n",
       "      <td>-1.319894e-02</td>\n",
       "      <td>-1.708076e-02</td>\n",
       "      <td>-1.578460e-02</td>\n",
       "      <td>-0.009139</td>\n",
       "      <td>-0.024113</td>\n",
       "    </tr>\n",
       "    <tr>\n",
       "      <th>std</th>\n",
       "      <td>0.737999</td>\n",
       "      <td>0.835320</td>\n",
       "      <td>0.776183</td>\n",
       "      <td>0.784498</td>\n",
       "      <td>0.706947</td>\n",
       "      <td>0.729747</td>\n",
       "      <td>0.678510</td>\n",
       "      <td>0.756302</td>\n",
       "      <td>7.596728e-01</td>\n",
       "      <td>0.727659</td>\n",
       "      <td>...</td>\n",
       "      <td>7.806962e-01</td>\n",
       "      <td>0.749502</td>\n",
       "      <td>5.773591e-01</td>\n",
       "      <td>7.157220e-01</td>\n",
       "      <td>7.991404e-01</td>\n",
       "      <td>8.226074e-01</td>\n",
       "      <td>7.491370e-01</td>\n",
       "      <td>8.062467e-01</td>\n",
       "      <td>0.819738</td>\n",
       "      <td>0.720160</td>\n",
       "    </tr>\n",
       "    <tr>\n",
       "      <th>min</th>\n",
       "      <td>-1.544105</td>\n",
       "      <td>-1.728327</td>\n",
       "      <td>-1.774736</td>\n",
       "      <td>-1.817588</td>\n",
       "      <td>-1.742715</td>\n",
       "      <td>-1.651606</td>\n",
       "      <td>-1.432973</td>\n",
       "      <td>-3.596604</td>\n",
       "      <td>-4.059495e+00</td>\n",
       "      <td>-3.807437</td>\n",
       "      <td>...</td>\n",
       "      <td>-4.664924e+00</td>\n",
       "      <td>-3.478508</td>\n",
       "      <td>-1.000000e+00</td>\n",
       "      <td>-3.093011e+00</td>\n",
       "      <td>-4.570032e+00</td>\n",
       "      <td>-4.593624e+00</td>\n",
       "      <td>-4.342778e+00</td>\n",
       "      <td>-4.795040e+00</td>\n",
       "      <td>-5.565860</td>\n",
       "      <td>-2.462018</td>\n",
       "    </tr>\n",
       "    <tr>\n",
       "      <th>25%</th>\n",
       "      <td>-0.457440</td>\n",
       "      <td>-0.439512</td>\n",
       "      <td>-0.503853</td>\n",
       "      <td>-0.374224</td>\n",
       "      <td>-0.530053</td>\n",
       "      <td>-0.387489</td>\n",
       "      <td>-0.557354</td>\n",
       "      <td>-0.498952</td>\n",
       "      <td>-4.996600e-01</td>\n",
       "      <td>-0.506618</td>\n",
       "      <td>...</td>\n",
       "      <td>-5.014042e-01</td>\n",
       "      <td>-0.496075</td>\n",
       "      <td>-5.000000e-01</td>\n",
       "      <td>-4.749774e-01</td>\n",
       "      <td>-5.077039e-01</td>\n",
       "      <td>-5.183114e-01</td>\n",
       "      <td>-5.299964e-01</td>\n",
       "      <td>-5.214450e-01</td>\n",
       "      <td>-0.516211</td>\n",
       "      <td>-0.541224</td>\n",
       "    </tr>\n",
       "    <tr>\n",
       "      <th>50%</th>\n",
       "      <td>0.000000</td>\n",
       "      <td>0.000000</td>\n",
       "      <td>0.000000</td>\n",
       "      <td>0.000000</td>\n",
       "      <td>0.000000</td>\n",
       "      <td>0.000000</td>\n",
       "      <td>0.000000</td>\n",
       "      <td>0.000000</td>\n",
       "      <td>-2.032879e-20</td>\n",
       "      <td>0.000000</td>\n",
       "      <td>...</td>\n",
       "      <td>-8.470329e-20</td>\n",
       "      <td>0.000000</td>\n",
       "      <td>0.000000e+00</td>\n",
       "      <td>-2.482654e-18</td>\n",
       "      <td>8.724439e-20</td>\n",
       "      <td>-1.427251e-18</td>\n",
       "      <td>-1.299349e-18</td>\n",
       "      <td>1.399298e-18</td>\n",
       "      <td>0.000000</td>\n",
       "      <td>0.000000</td>\n",
       "    </tr>\n",
       "    <tr>\n",
       "      <th>75%</th>\n",
       "      <td>0.542560</td>\n",
       "      <td>0.560488</td>\n",
       "      <td>0.496147</td>\n",
       "      <td>0.625776</td>\n",
       "      <td>0.469947</td>\n",
       "      <td>0.612511</td>\n",
       "      <td>0.442646</td>\n",
       "      <td>0.501048</td>\n",
       "      <td>5.003400e-01</td>\n",
       "      <td>0.493382</td>\n",
       "      <td>...</td>\n",
       "      <td>4.985958e-01</td>\n",
       "      <td>0.503925</td>\n",
       "      <td>5.000000e-01</td>\n",
       "      <td>5.250226e-01</td>\n",
       "      <td>4.922961e-01</td>\n",
       "      <td>4.816886e-01</td>\n",
       "      <td>4.700036e-01</td>\n",
       "      <td>4.785550e-01</td>\n",
       "      <td>0.483789</td>\n",
       "      <td>0.458776</td>\n",
       "    </tr>\n",
       "    <tr>\n",
       "      <th>max</th>\n",
       "      <td>3.059502</td>\n",
       "      <td>3.239605</td>\n",
       "      <td>2.609478</td>\n",
       "      <td>3.184751</td>\n",
       "      <td>2.600295</td>\n",
       "      <td>3.078214</td>\n",
       "      <td>2.478376</td>\n",
       "      <td>3.266576</td>\n",
       "      <td>3.198751e+00</td>\n",
       "      <td>3.426546</td>\n",
       "      <td>...</td>\n",
       "      <td>4.069145e+00</td>\n",
       "      <td>3.334303</td>\n",
       "      <td>1.000000e+00</td>\n",
       "      <td>3.781122e+00</td>\n",
       "      <td>4.359963e+00</td>\n",
       "      <td>5.392651e+00</td>\n",
       "      <td>3.784572e+00</td>\n",
       "      <td>5.090806e+00</td>\n",
       "      <td>5.649886</td>\n",
       "      <td>4.007816</td>\n",
       "    </tr>\n",
       "  </tbody>\n",
       "</table>\n",
       "<p>8 rows × 22 columns</p>\n",
       "</div>"
      ],
      "text/plain": [
       "                 0             1             2             3             4   \\\n",
       "count  98000.000000  98000.000000  98000.000000  98000.000000  98000.000000   \n",
       "mean      -0.016028      0.040810     -0.010857      0.071192     -0.047298   \n",
       "std        0.737999      0.835320      0.776183      0.784498      0.706947   \n",
       "min       -1.544105     -1.728327     -1.774736     -1.817588     -1.742715   \n",
       "25%       -0.457440     -0.439512     -0.503853     -0.374224     -0.530053   \n",
       "50%        0.000000      0.000000      0.000000      0.000000      0.000000   \n",
       "75%        0.542560      0.560488      0.496147      0.625776      0.469947   \n",
       "max        3.059502      3.239605      2.609478      3.184751      2.600295   \n",
       "\n",
       "                 5             6             7             8             9   \\\n",
       "count  98000.000000  98000.000000  98000.000000  9.800000e+04  98000.000000   \n",
       "mean       0.061003     -0.058401      0.001370  3.585112e-04     -0.003573   \n",
       "std        0.729747      0.678510      0.756302  7.596728e-01      0.727659   \n",
       "min       -1.651606     -1.432973     -3.596604 -4.059495e+00     -3.807437   \n",
       "25%       -0.387489     -0.557354     -0.498952 -4.996600e-01     -0.506618   \n",
       "50%        0.000000      0.000000      0.000000 -2.032879e-20      0.000000   \n",
       "75%        0.612511      0.442646      0.501048  5.003400e-01      0.493382   \n",
       "max        3.078214      2.478376      3.266576  3.198751e+00      3.426546   \n",
       "\n",
       "       ...            12            13            14            15  \\\n",
       "count  ...  9.800000e+04  98000.000000  9.800000e+04  9.800000e+04   \n",
       "mean   ... -1.521723e-03      0.004043 -1.911858e-09  2.697484e-02   \n",
       "std    ...  7.806962e-01      0.749502  5.773591e-01  7.157220e-01   \n",
       "min    ... -4.664924e+00     -3.478508 -1.000000e+00 -3.093011e+00   \n",
       "25%    ... -5.014042e-01     -0.496075 -5.000000e-01 -4.749774e-01   \n",
       "50%    ... -8.470329e-20      0.000000  0.000000e+00 -2.482654e-18   \n",
       "75%    ...  4.985958e-01      0.503925  5.000000e-01  5.250226e-01   \n",
       "max    ...  4.069145e+00      3.334303  1.000000e+00  3.781122e+00   \n",
       "\n",
       "                 16            17            18            19            20  \\\n",
       "count  9.800000e+04  9.800000e+04  9.800000e+04  9.800000e+04  98000.000000   \n",
       "mean  -1.197292e-03 -1.319894e-02 -1.708076e-02 -1.578460e-02     -0.009139   \n",
       "std    7.991404e-01  8.226074e-01  7.491370e-01  8.062467e-01      0.819738   \n",
       "min   -4.570032e+00 -4.593624e+00 -4.342778e+00 -4.795040e+00     -5.565860   \n",
       "25%   -5.077039e-01 -5.183114e-01 -5.299964e-01 -5.214450e-01     -0.516211   \n",
       "50%    8.724439e-20 -1.427251e-18 -1.299349e-18  1.399298e-18      0.000000   \n",
       "75%    4.922961e-01  4.816886e-01  4.700036e-01  4.785550e-01      0.483789   \n",
       "max    4.359963e+00  5.392651e+00  3.784572e+00  5.090806e+00      5.649886   \n",
       "\n",
       "                 21  \n",
       "count  98000.000000  \n",
       "mean      -0.024113  \n",
       "std        0.720160  \n",
       "min       -2.462018  \n",
       "25%       -0.541224  \n",
       "50%        0.000000  \n",
       "75%        0.458776  \n",
       "max        4.007816  \n",
       "\n",
       "[8 rows x 22 columns]"
      ]
     },
     "execution_count": 23,
     "metadata": {},
     "output_type": "execute_result"
    }
   ],
   "source": [
    "pd.DataFrame(train).describe()"
   ]
  },
  {
   "cell_type": "code",
   "execution_count": 24,
   "id": "23613fd9",
   "metadata": {
    "execution": {
     "iopub.execute_input": "2022-07-23T05:41:32.421048Z",
     "iopub.status.busy": "2022-07-23T05:41:32.420074Z",
     "iopub.status.idle": "2022-07-23T05:43:20.421041Z",
     "shell.execute_reply": "2022-07-23T05:43:20.418207Z"
    },
    "papermill": {
     "duration": 108.059866,
     "end_time": "2022-07-23T05:43:20.468948",
     "exception": false,
     "start_time": "2022-07-23T05:41:32.409082",
     "status": "completed"
    },
    "tags": []
   },
   "outputs": [
    {
     "name": "stderr",
     "output_type": "stream",
     "text": [
      "  7%|▋         | 1/14 [00:02<00:32,  2.51s/it]"
     ]
    },
    {
     "name": "stdout",
     "output_type": "stream",
     "text": [
      "K=2, Silhouette Score=0.08408102144923073\n"
     ]
    },
    {
     "name": "stderr",
     "output_type": "stream",
     "text": [
      " 14%|█▍        | 2/14 [00:07<00:44,  3.68s/it]"
     ]
    },
    {
     "name": "stdout",
     "output_type": "stream",
     "text": [
      "K=3, Silhouette Score=0.08878273194987576\n"
     ]
    },
    {
     "name": "stderr",
     "output_type": "stream",
     "text": [
      " 21%|██▏       | 3/14 [00:10<00:41,  3.80s/it]"
     ]
    },
    {
     "name": "stdout",
     "output_type": "stream",
     "text": [
      "K=4, Silhouette Score=0.08226123484342139\n"
     ]
    },
    {
     "name": "stderr",
     "output_type": "stream",
     "text": [
      " 29%|██▊       | 4/14 [00:14<00:37,  3.72s/it]"
     ]
    },
    {
     "name": "stdout",
     "output_type": "stream",
     "text": [
      "K=5, Silhouette Score=0.082506274181251\n"
     ]
    },
    {
     "name": "stderr",
     "output_type": "stream",
     "text": [
      " 36%|███▌      | 5/14 [00:19<00:37,  4.11s/it]"
     ]
    },
    {
     "name": "stdout",
     "output_type": "stream",
     "text": [
      "K=6, Silhouette Score=0.07481481057815867\n"
     ]
    },
    {
     "name": "stderr",
     "output_type": "stream",
     "text": [
      " 43%|████▎     | 6/14 [00:24<00:36,  4.56s/it]"
     ]
    },
    {
     "name": "stdout",
     "output_type": "stream",
     "text": [
      "K=7, Silhouette Score=0.08001535604583737\n"
     ]
    },
    {
     "name": "stderr",
     "output_type": "stream",
     "text": [
      " 50%|█████     | 7/14 [00:31<00:36,  5.14s/it]"
     ]
    },
    {
     "name": "stdout",
     "output_type": "stream",
     "text": [
      "K=8, Silhouette Score=0.06723287990328612\n"
     ]
    },
    {
     "name": "stderr",
     "output_type": "stream",
     "text": [
      " 57%|█████▋    | 8/14 [00:37<00:33,  5.56s/it]"
     ]
    },
    {
     "name": "stdout",
     "output_type": "stream",
     "text": [
      "K=9, Silhouette Score=0.06935309280588553\n"
     ]
    },
    {
     "name": "stderr",
     "output_type": "stream",
     "text": [
      " 64%|██████▍   | 9/14 [00:45<00:31,  6.28s/it]"
     ]
    },
    {
     "name": "stdout",
     "output_type": "stream",
     "text": [
      "K=10, Silhouette Score=0.061956881783886114\n"
     ]
    },
    {
     "name": "stderr",
     "output_type": "stream",
     "text": [
      " 71%|███████▏  | 10/14 [00:53<00:27,  6.85s/it]"
     ]
    },
    {
     "name": "stdout",
     "output_type": "stream",
     "text": [
      "K=11, Silhouette Score=0.05455988158659587\n"
     ]
    },
    {
     "name": "stderr",
     "output_type": "stream",
     "text": [
      " 79%|███████▊  | 11/14 [01:02<00:22,  7.36s/it]"
     ]
    },
    {
     "name": "stdout",
     "output_type": "stream",
     "text": [
      "K=12, Silhouette Score=0.056516995010008224\n"
     ]
    },
    {
     "name": "stderr",
     "output_type": "stream",
     "text": [
      " 86%|████████▌ | 12/14 [01:14<00:18,  9.04s/it]"
     ]
    },
    {
     "name": "stdout",
     "output_type": "stream",
     "text": [
      "K=13, Silhouette Score=0.054873989278273284\n"
     ]
    },
    {
     "name": "stderr",
     "output_type": "stream",
     "text": [
      " 93%|█████████▎| 13/14 [01:28<00:10, 10.33s/it]"
     ]
    },
    {
     "name": "stdout",
     "output_type": "stream",
     "text": [
      "K=14, Silhouette Score=0.047742336962047056\n"
     ]
    },
    {
     "name": "stderr",
     "output_type": "stream",
     "text": [
      "100%|██████████| 14/14 [01:47<00:00,  7.71s/it]"
     ]
    },
    {
     "name": "stdout",
     "output_type": "stream",
     "text": [
      "K=15, Silhouette Score=0.0549582758615373\n"
     ]
    },
    {
     "name": "stderr",
     "output_type": "stream",
     "text": [
      "\n"
     ]
    }
   ],
   "source": [
    "for i in tqdm(range(2,15+1)):\n",
    "    kmeans=KMeans(n_clusters=i,random_state=1234).fit(train)\n",
    "    silhouette=silhouette_score(train,kmeans.labels_, metric=\"euclidean\",sample_size = 300, random_state = 1234)\n",
    "    print('K={}, Silhouette Score={}'.format(i,silhouette))"
   ]
  },
  {
   "cell_type": "code",
   "execution_count": 25,
   "id": "eb4c5722",
   "metadata": {
    "execution": {
     "iopub.execute_input": "2022-07-23T05:43:20.512726Z",
     "iopub.status.busy": "2022-07-23T05:43:20.511547Z",
     "iopub.status.idle": "2022-07-23T05:59:47.931461Z",
     "shell.execute_reply": "2022-07-23T05:59:47.929754Z"
    },
    "papermill": {
     "duration": 987.448734,
     "end_time": "2022-07-23T05:59:47.937738",
     "exception": false,
     "start_time": "2022-07-23T05:43:20.489004",
     "status": "completed"
    },
    "tags": []
   },
   "outputs": [
    {
     "name": "stderr",
     "output_type": "stream",
     "text": [
      "  7%|▋         | 1/14 [00:08<01:52,  8.63s/it]"
     ]
    },
    {
     "name": "stdout",
     "output_type": "stream",
     "text": [
      "K=2, Silhouette Score=0.07146425892988031\n"
     ]
    },
    {
     "name": "stderr",
     "output_type": "stream",
     "text": [
      "/opt/conda/lib/python3.7/site-packages/sklearn/mixture/_base.py:282: ConvergenceWarning: Initialization 1 did not converge. Try different init parameters, or increase max_iter, tol or check for degenerate data.\n",
      "  ConvergenceWarning,\n",
      " 14%|█▍        | 2/14 [00:38<04:13, 21.11s/it]"
     ]
    },
    {
     "name": "stdout",
     "output_type": "stream",
     "text": [
      "K=3, Silhouette Score=0.05630493578704851\n"
     ]
    },
    {
     "name": "stderr",
     "output_type": "stream",
     "text": [
      "/opt/conda/lib/python3.7/site-packages/sklearn/mixture/_base.py:282: ConvergenceWarning: Initialization 1 did not converge. Try different init parameters, or increase max_iter, tol or check for degenerate data.\n",
      "  ConvergenceWarning,\n",
      " 21%|██▏       | 3/14 [01:15<05:11, 28.32s/it]"
     ]
    },
    {
     "name": "stdout",
     "output_type": "stream",
     "text": [
      "K=4, Silhouette Score=0.06851409358427281\n"
     ]
    },
    {
     "name": "stderr",
     "output_type": "stream",
     "text": [
      "/opt/conda/lib/python3.7/site-packages/sklearn/mixture/_base.py:282: ConvergenceWarning: Initialization 1 did not converge. Try different init parameters, or increase max_iter, tol or check for degenerate data.\n",
      "  ConvergenceWarning,\n",
      " 29%|██▊       | 4/14 [01:59<05:44, 34.45s/it]"
     ]
    },
    {
     "name": "stdout",
     "output_type": "stream",
     "text": [
      "K=5, Silhouette Score=0.07626255865346546\n"
     ]
    },
    {
     "name": "stderr",
     "output_type": "stream",
     "text": [
      "/opt/conda/lib/python3.7/site-packages/sklearn/mixture/_base.py:282: ConvergenceWarning: Initialization 1 did not converge. Try different init parameters, or increase max_iter, tol or check for degenerate data.\n",
      "  ConvergenceWarning,\n",
      " 36%|███▌      | 5/14 [02:50<06:03, 40.40s/it]"
     ]
    },
    {
     "name": "stdout",
     "output_type": "stream",
     "text": [
      "K=6, Silhouette Score=0.06385137277144896\n"
     ]
    },
    {
     "name": "stderr",
     "output_type": "stream",
     "text": [
      "/opt/conda/lib/python3.7/site-packages/sklearn/mixture/_base.py:282: ConvergenceWarning: Initialization 1 did not converge. Try different init parameters, or increase max_iter, tol or check for degenerate data.\n",
      "  ConvergenceWarning,\n",
      " 43%|████▎     | 6/14 [03:49<06:13, 46.69s/it]"
     ]
    },
    {
     "name": "stdout",
     "output_type": "stream",
     "text": [
      "K=7, Silhouette Score=0.031690454755105894\n"
     ]
    },
    {
     "name": "stderr",
     "output_type": "stream",
     "text": [
      "/opt/conda/lib/python3.7/site-packages/sklearn/mixture/_base.py:282: ConvergenceWarning: Initialization 1 did not converge. Try different init parameters, or increase max_iter, tol or check for degenerate data.\n",
      "  ConvergenceWarning,\n",
      " 50%|█████     | 7/14 [04:56<06:13, 53.41s/it]"
     ]
    },
    {
     "name": "stdout",
     "output_type": "stream",
     "text": [
      "K=8, Silhouette Score=0.034038745710878955\n"
     ]
    },
    {
     "name": "stderr",
     "output_type": "stream",
     "text": [
      "/opt/conda/lib/python3.7/site-packages/sklearn/mixture/_base.py:282: ConvergenceWarning: Initialization 1 did not converge. Try different init parameters, or increase max_iter, tol or check for degenerate data.\n",
      "  ConvergenceWarning,\n",
      " 57%|█████▋    | 8/14 [06:11<06:02, 60.47s/it]"
     ]
    },
    {
     "name": "stdout",
     "output_type": "stream",
     "text": [
      "K=9, Silhouette Score=0.037457872614718134\n"
     ]
    },
    {
     "name": "stderr",
     "output_type": "stream",
     "text": [
      "/opt/conda/lib/python3.7/site-packages/sklearn/mixture/_base.py:282: ConvergenceWarning: Initialization 1 did not converge. Try different init parameters, or increase max_iter, tol or check for degenerate data.\n",
      "  ConvergenceWarning,\n",
      " 64%|██████▍   | 9/14 [07:34<05:37, 67.51s/it]"
     ]
    },
    {
     "name": "stdout",
     "output_type": "stream",
     "text": [
      "K=10, Silhouette Score=0.037835505213104935\n"
     ]
    },
    {
     "name": "stderr",
     "output_type": "stream",
     "text": [
      "/opt/conda/lib/python3.7/site-packages/sklearn/mixture/_base.py:282: ConvergenceWarning: Initialization 1 did not converge. Try different init parameters, or increase max_iter, tol or check for degenerate data.\n",
      "  ConvergenceWarning,\n",
      " 71%|███████▏  | 10/14 [09:07<05:01, 75.41s/it]"
     ]
    },
    {
     "name": "stdout",
     "output_type": "stream",
     "text": [
      "K=11, Silhouette Score=0.033905625776728\n"
     ]
    },
    {
     "name": "stderr",
     "output_type": "stream",
     "text": [
      "/opt/conda/lib/python3.7/site-packages/sklearn/mixture/_base.py:282: ConvergenceWarning: Initialization 1 did not converge. Try different init parameters, or increase max_iter, tol or check for degenerate data.\n",
      "  ConvergenceWarning,\n",
      " 79%|███████▊  | 11/14 [10:44<04:05, 82.00s/it]"
     ]
    },
    {
     "name": "stdout",
     "output_type": "stream",
     "text": [
      "K=12, Silhouette Score=0.02734294334473016\n"
     ]
    },
    {
     "name": "stderr",
     "output_type": "stream",
     "text": [
      "/opt/conda/lib/python3.7/site-packages/sklearn/mixture/_base.py:282: ConvergenceWarning: Initialization 1 did not converge. Try different init parameters, or increase max_iter, tol or check for degenerate data.\n",
      "  ConvergenceWarning,\n",
      " 86%|████████▌ | 12/14 [12:32<02:59, 89.76s/it]"
     ]
    },
    {
     "name": "stdout",
     "output_type": "stream",
     "text": [
      "K=13, Silhouette Score=0.02508920910064799\n"
     ]
    },
    {
     "name": "stderr",
     "output_type": "stream",
     "text": [
      "/opt/conda/lib/python3.7/site-packages/sklearn/mixture/_base.py:282: ConvergenceWarning: Initialization 1 did not converge. Try different init parameters, or increase max_iter, tol or check for degenerate data.\n",
      "  ConvergenceWarning,\n",
      " 93%|█████████▎| 13/14 [14:24<01:36, 96.63s/it]"
     ]
    },
    {
     "name": "stdout",
     "output_type": "stream",
     "text": [
      "K=14, Silhouette Score=0.026743237051631313\n"
     ]
    },
    {
     "name": "stderr",
     "output_type": "stream",
     "text": [
      "/opt/conda/lib/python3.7/site-packages/sklearn/mixture/_base.py:282: ConvergenceWarning: Initialization 1 did not converge. Try different init parameters, or increase max_iter, tol or check for degenerate data.\n",
      "  ConvergenceWarning,\n",
      "100%|██████████| 14/14 [16:27<00:00, 70.53s/it] "
     ]
    },
    {
     "name": "stdout",
     "output_type": "stream",
     "text": [
      "K=15, Silhouette Score=0.02962392320368931\n"
     ]
    },
    {
     "name": "stderr",
     "output_type": "stream",
     "text": [
      "\n"
     ]
    }
   ],
   "source": [
    "for i in tqdm(range(2,15+1)):\n",
    "    bayes=BayesianGaussianMixture(n_components=i,random_state=42,).fit(train)\n",
    "    silhouette_score2=silhouette_score(train,bayes.predict(train),metric='euclidean',sample_size=300,random_state=42)\n",
    "    print('K={}, Silhouette Score={}'.format(i,silhouette_score2))"
   ]
  },
  {
   "cell_type": "code",
   "execution_count": 26,
   "id": "edf10009",
   "metadata": {
    "execution": {
     "iopub.execute_input": "2022-07-23T05:59:47.993042Z",
     "iopub.status.busy": "2022-07-23T05:59:47.992167Z",
     "iopub.status.idle": "2022-07-23T05:59:52.201614Z",
     "shell.execute_reply": "2022-07-23T05:59:52.199662Z"
    },
    "papermill": {
     "duration": 4.241398,
     "end_time": "2022-07-23T05:59:52.204554",
     "exception": false,
     "start_time": "2022-07-23T05:59:47.963156",
     "status": "completed"
    },
    "tags": []
   },
   "outputs": [
    {
     "name": "stdout",
     "output_type": "stream",
     "text": [
      "Initialization complete\n",
      "Iteration 0, inertia 1474183.5973785531\n",
      "Iteration 1, inertia 1032112.3037759734\n",
      "Iteration 2, inertia 996459.9212375702\n",
      "Iteration 3, inertia 984106.5331133157\n",
      "Iteration 4, inertia 979009.302601954\n",
      "Iteration 5, inertia 976239.7746580339\n",
      "Iteration 6, inertia 974524.0360018\n",
      "Iteration 7, inertia 973375.082324577\n",
      "Iteration 8, inertia 972553.4112418095\n",
      "Iteration 9, inertia 971899.5021367917\n",
      "Iteration 10, inertia 971326.5067217184\n",
      "Iteration 11, inertia 970765.086919354\n",
      "Iteration 12, inertia 970190.3266690065\n",
      "Iteration 13, inertia 969623.0345581572\n",
      "Iteration 14, inertia 969041.2571039142\n",
      "Iteration 15, inertia 968385.2956392118\n",
      "Iteration 16, inertia 967569.5636005802\n",
      "Iteration 17, inertia 966527.9460767\n",
      "Iteration 18, inertia 965283.9672413882\n",
      "Iteration 19, inertia 963738.5717805251\n",
      "Iteration 20, inertia 962070.6290929199\n",
      "Iteration 21, inertia 960530.8149869398\n",
      "Iteration 22, inertia 959416.1104803425\n",
      "Iteration 23, inertia 958707.5984004735\n",
      "Iteration 24, inertia 958197.0361421183\n",
      "Iteration 25, inertia 957852.9598120362\n",
      "Iteration 26, inertia 957595.5997217585\n",
      "Iteration 27, inertia 957369.6273541827\n",
      "Iteration 28, inertia 957137.0064865835\n",
      "Iteration 29, inertia 956897.5500362823\n",
      "Iteration 30, inertia 956581.489976852\n",
      "Iteration 31, inertia 956078.1699364183\n",
      "Iteration 32, inertia 955343.1248025263\n",
      "Iteration 33, inertia 954358.6460346279\n",
      "Iteration 34, inertia 953426.7534690427\n",
      "Iteration 35, inertia 952815.3866670209\n",
      "Iteration 36, inertia 952464.0686211383\n",
      "Iteration 37, inertia 952261.8401922418\n",
      "Iteration 38, inertia 952160.8970796694\n",
      "Iteration 39, inertia 952112.4786684619\n",
      "Iteration 40, inertia 952089.4527450684\n",
      "Iteration 41, inertia 952075.3834243843\n",
      "Iteration 42, inertia 952065.6118835555\n",
      "Iteration 43, inertia 952060.2424898993\n",
      "Iteration 44, inertia 952057.388344705\n",
      "Converged at iteration 44: center shift 3.997280516256657e-05 within tolerance 5.6977027746408185e-05.\n",
      "Initialization complete\n",
      "Iteration 0, inertia 1380506.3837680377\n",
      "Iteration 1, inertia 1025300.9409667327\n",
      "Iteration 2, inertia 992949.139044581\n",
      "Iteration 3, inertia 980835.4048400994\n",
      "Iteration 4, inertia 976296.2773336892\n",
      "Iteration 5, inertia 973772.1978834743\n",
      "Iteration 6, inertia 972035.5177368906\n",
      "Iteration 7, inertia 970378.2915341032\n",
      "Iteration 8, inertia 968321.3922723269\n",
      "Iteration 9, inertia 966055.4274738594\n",
      "Iteration 10, inertia 963910.6864192017\n",
      "Iteration 11, inertia 962017.7502125824\n",
      "Iteration 12, inertia 960512.4679917805\n",
      "Iteration 13, inertia 959350.7083234495\n",
      "Iteration 14, inertia 958562.4557877246\n",
      "Iteration 15, inertia 958050.9907521138\n",
      "Iteration 16, inertia 957694.1687841505\n",
      "Iteration 17, inertia 957416.8010784154\n",
      "Iteration 18, inertia 957155.7643886753\n",
      "Iteration 19, inertia 956899.9675021047\n",
      "Iteration 20, inertia 956573.4948042487\n",
      "Iteration 21, inertia 956064.2968999769\n",
      "Iteration 22, inertia 955326.0990857715\n",
      "Iteration 23, inertia 954337.9942126477\n",
      "Iteration 24, inertia 953413.6967360119\n",
      "Iteration 25, inertia 952811.6018327953\n",
      "Iteration 26, inertia 952459.889247149\n",
      "Iteration 27, inertia 952261.1580427338\n",
      "Iteration 28, inertia 952160.6972543995\n",
      "Iteration 29, inertia 952112.460230075\n",
      "Iteration 30, inertia 952089.3791218358\n",
      "Iteration 31, inertia 952075.0536885768\n",
      "Iteration 32, inertia 952065.3683693903\n",
      "Iteration 33, inertia 952060.1675036268\n",
      "Iteration 34, inertia 952057.346072136\n",
      "Converged at iteration 34: center shift 4.0104021081205304e-05 within tolerance 5.6977027746408185e-05.\n",
      "Initialization complete\n",
      "Iteration 0, inertia 1350622.08203507\n",
      "Iteration 1, inertia 1018497.800033432\n",
      "Iteration 2, inertia 977842.8620456229\n",
      "Iteration 3, inertia 968170.2332442622\n",
      "Iteration 4, inertia 965105.8710165868\n",
      "Iteration 5, inertia 963778.7537196231\n",
      "Iteration 6, inertia 963104.3046402162\n",
      "Iteration 7, inertia 962727.8943928443\n",
      "Iteration 8, inertia 962485.6505527429\n",
      "Iteration 9, inertia 962321.561842594\n",
      "Iteration 10, inertia 962196.1342300193\n",
      "Iteration 11, inertia 962067.8383552697\n",
      "Iteration 12, inertia 961931.9438967825\n",
      "Iteration 13, inertia 961773.7023586686\n",
      "Iteration 14, inertia 961580.439464473\n",
      "Iteration 15, inertia 961347.1323323891\n",
      "Iteration 16, inertia 961079.7174755228\n",
      "Iteration 17, inertia 960759.4809001073\n",
      "Iteration 18, inertia 960386.7392482099\n",
      "Iteration 19, inertia 959964.5172964096\n",
      "Iteration 20, inertia 959496.1550032542\n",
      "Iteration 21, inertia 958980.3367616844\n",
      "Iteration 22, inertia 958385.8166882223\n",
      "Iteration 23, inertia 957697.8055913541\n",
      "Iteration 24, inertia 956947.978782092\n",
      "Iteration 25, inertia 956150.2846679682\n",
      "Iteration 26, inertia 955338.8862980201\n",
      "Iteration 27, inertia 954574.9082090687\n",
      "Iteration 28, inertia 953892.6569895919\n",
      "Iteration 29, inertia 953362.3749545176\n",
      "Iteration 30, inertia 952974.7891384478\n",
      "Iteration 31, inertia 952688.1983002278\n",
      "Iteration 32, inertia 952482.8373127984\n",
      "Iteration 33, inertia 952343.6738275132\n",
      "Iteration 34, inertia 952243.0190306585\n",
      "Iteration 35, inertia 952169.5556464716\n",
      "Iteration 36, inertia 952121.7187261644\n",
      "Iteration 37, inertia 952093.0644952978\n",
      "Iteration 38, inertia 952078.220913306\n",
      "Iteration 39, inertia 952069.4715877913\n",
      "Iteration 40, inertia 952063.75434964\n",
      "Iteration 41, inertia 952060.4169652532\n",
      "Converged at iteration 41: center shift 5.5676890780860824e-05 within tolerance 5.6977027746408185e-05.\n",
      "Initialization complete\n",
      "Iteration 0, inertia 1374661.9987809034\n",
      "Iteration 1, inertia 1039062.5052381711\n",
      "Iteration 2, inertia 998184.4173611085\n",
      "Iteration 3, inertia 978992.7771528191\n",
      "Iteration 4, inertia 970912.0222212236\n",
      "Iteration 5, inertia 966099.2921828814\n",
      "Iteration 6, inertia 962516.5847436604\n",
      "Iteration 7, inertia 959841.2063811203\n",
      "Iteration 8, inertia 957784.4527607696\n",
      "Iteration 9, inertia 956169.2110194464\n",
      "Iteration 10, inertia 954946.6207607635\n",
      "Iteration 11, inertia 954068.5791586977\n",
      "Iteration 12, inertia 953433.0151424771\n",
      "Iteration 13, inertia 952964.7476118502\n",
      "Iteration 14, inertia 952648.8362599951\n",
      "Iteration 15, inertia 952422.1581786766\n",
      "Iteration 16, inertia 952286.7863573942\n",
      "Iteration 17, inertia 952193.5999311861\n",
      "Iteration 18, inertia 952133.2948672356\n",
      "Iteration 19, inertia 952098.9754255858\n",
      "Iteration 20, inertia 952077.8131967157\n",
      "Iteration 21, inertia 952065.6956316209\n",
      "Iteration 22, inertia 952059.5814359487\n",
      "Iteration 23, inertia 952056.7170814686\n",
      "Converged at iteration 23: center shift 4.3933704684877495e-05 within tolerance 5.6977027746408185e-05.\n",
      "Initialization complete\n",
      "Iteration 0, inertia 1457305.2880243752\n",
      "Iteration 1, inertia 1025238.8616720822\n",
      "Iteration 2, inertia 998233.4981111509\n",
      "Iteration 3, inertia 985928.4183514136\n",
      "Iteration 4, inertia 978575.790297233\n",
      "Iteration 5, inertia 974058.8002070147\n",
      "Iteration 6, inertia 971239.0770185974\n",
      "Iteration 7, inertia 969407.8979434273\n",
      "Iteration 8, inertia 968125.8807770927\n",
      "Iteration 9, inertia 967157.3826390835\n",
      "Iteration 10, inertia 966252.7412542211\n",
      "Iteration 11, inertia 965239.5632595591\n",
      "Iteration 12, inertia 963980.9236734019\n",
      "Iteration 13, inertia 962398.9182200612\n",
      "Iteration 14, inertia 960644.024724472\n",
      "Iteration 15, inertia 958928.3586725413\n",
      "Iteration 16, inertia 957419.7742221592\n",
      "Iteration 17, inertia 956201.3098014044\n",
      "Iteration 18, inertia 955314.2817876843\n",
      "Iteration 19, inertia 954673.4766810539\n",
      "Iteration 20, inertia 954152.455870908\n",
      "Iteration 21, inertia 953710.8713709805\n",
      "Iteration 22, inertia 953316.2124689482\n",
      "Iteration 23, inertia 952996.9800312719\n",
      "Iteration 24, inertia 952720.9853233641\n",
      "Iteration 25, inertia 952510.5014009476\n",
      "Iteration 26, inertia 952353.1325123066\n",
      "Iteration 27, inertia 952239.874442826\n",
      "Iteration 28, inertia 952165.3700495197\n",
      "Iteration 29, inertia 952116.5697283446\n",
      "Iteration 30, inertia 952087.8328817398\n",
      "Iteration 31, inertia 952071.4569217055\n",
      "Iteration 32, inertia 952062.7036470266\n",
      "Iteration 33, inertia 952058.9635490201\n",
      "Iteration 34, inertia 952056.7813525954\n",
      "Converged at iteration 34: center shift 3.784212531479525e-05 within tolerance 5.6977027746408185e-05.\n",
      "Initialization complete\n",
      "Iteration 0, inertia 1440446.237002823\n",
      "Iteration 1, inertia 1009697.3319856799\n",
      "Iteration 2, inertia 983185.9038374443\n",
      "Iteration 3, inertia 973256.2923069826\n",
      "Iteration 4, inertia 968402.2171568917\n",
      "Iteration 5, inertia 965580.2109241318\n",
      "Iteration 6, inertia 963888.4479176595\n",
      "Iteration 7, inertia 962907.1828829865\n",
      "Iteration 8, inertia 962287.8419801426\n",
      "Iteration 9, inertia 961791.7364150422\n",
      "Iteration 10, inertia 961373.9337257588\n",
      "Iteration 11, inertia 960968.1820105849\n",
      "Iteration 12, inertia 960524.7085871156\n",
      "Iteration 13, inertia 960061.175506842\n",
      "Iteration 14, inertia 959571.2398208417\n",
      "Iteration 15, inertia 959038.1210087021\n",
      "Iteration 16, inertia 958455.6351771982\n",
      "Iteration 17, inertia 957764.4346409021\n",
      "Iteration 18, inertia 957010.4811898419\n",
      "Iteration 19, inertia 956212.2047410235\n",
      "Iteration 20, inertia 955398.6183650983\n",
      "Iteration 21, inertia 954621.3078676405\n",
      "Iteration 22, inertia 953936.1339431311\n",
      "Iteration 23, inertia 953393.0624305664\n",
      "Iteration 24, inertia 952998.9490139406\n",
      "Iteration 25, inertia 952709.4140180729\n",
      "Iteration 26, inertia 952496.6333738625\n",
      "Iteration 27, inertia 952353.0531651799\n",
      "Iteration 28, inertia 952248.9297897739\n",
      "Iteration 29, inertia 952173.4290348429\n",
      "Iteration 30, inertia 952124.151303117\n",
      "Iteration 31, inertia 952094.5998384709\n",
      "Iteration 32, inertia 952079.1551128114\n",
      "Iteration 33, inertia 952070.2131173362\n",
      "Iteration 34, inertia 952064.266516044\n",
      "Iteration 35, inertia 952060.7969445551\n",
      "Iteration 36, inertia 952058.8682039238\n",
      "Converged at iteration 36: center shift 3.3282516550818094e-05 within tolerance 5.6977027746408185e-05.\n",
      "Initialization complete\n",
      "Iteration 0, inertia 1366933.9805665617\n",
      "Iteration 1, inertia 1022864.8895632892\n",
      "Iteration 2, inertia 986130.5320319616\n",
      "Iteration 3, inertia 971518.773302151\n",
      "Iteration 4, inertia 964329.0224652402\n",
      "Iteration 5, inertia 959151.0276525284\n",
      "Iteration 6, inertia 955905.458481089\n",
      "Iteration 7, inertia 954075.1962579255\n",
      "Iteration 8, inertia 953072.5238937952\n",
      "Iteration 9, inertia 952581.9409619875\n",
      "Iteration 10, inertia 952317.6126742207\n",
      "Iteration 11, inertia 952186.9145156709\n",
      "Iteration 12, inertia 952116.4501240184\n",
      "Iteration 13, inertia 952085.3850501326\n",
      "Iteration 14, inertia 952070.8646297776\n",
      "Iteration 15, inertia 952063.2794867898\n",
      "Iteration 16, inertia 952059.0989843057\n",
      "Iteration 17, inertia 952056.465467406\n",
      "Converged at iteration 17: center shift 3.5598864956904766e-05 within tolerance 5.6977027746408185e-05.\n",
      "Initialization complete\n",
      "Iteration 0, inertia 1401934.4777464212\n",
      "Iteration 1, inertia 1031134.583754926\n",
      "Iteration 2, inertia 1000791.0452254156\n",
      "Iteration 3, inertia 988306.0098614626\n",
      "Iteration 4, inertia 981307.4046533871\n",
      "Iteration 5, inertia 975550.4824882883\n",
      "Iteration 6, inertia 969593.1966644952\n",
      "Iteration 7, inertia 963759.9966949653\n",
      "Iteration 8, inertia 959239.5103721202\n",
      "Iteration 9, inertia 956152.8924212534\n",
      "Iteration 10, inertia 954322.889344613\n",
      "Iteration 11, inertia 953355.046093594\n",
      "Iteration 12, inertia 952793.0165546456\n",
      "Iteration 13, inertia 952486.5839791762\n",
      "Iteration 14, inertia 952312.3387810343\n",
      "Iteration 15, inertia 952215.031408419\n",
      "Iteration 16, inertia 952150.4674803731\n",
      "Iteration 17, inertia 952108.1958294845\n",
      "Iteration 18, inertia 952086.5937985192\n",
      "Iteration 19, inertia 952074.6027150841\n",
      "Iteration 20, inertia 952066.4679771536\n",
      "Iteration 21, inertia 952062.0660987553\n",
      "Iteration 22, inertia 952059.5106133178\n",
      "Converged at iteration 22: center shift 3.584688402798457e-05 within tolerance 5.6977027746408185e-05.\n",
      "Initialization complete\n",
      "Iteration 0, inertia 1270701.0885883993\n",
      "Iteration 1, inertia 1005799.4126908027\n",
      "Iteration 2, inertia 977442.9468605332\n",
      "Iteration 3, inertia 968407.4429763943\n",
      "Iteration 4, inertia 964997.2771454098\n",
      "Iteration 5, inertia 962977.6728254347\n",
      "Iteration 6, inertia 961481.044914893\n",
      "Iteration 7, inertia 960329.4059768631\n",
      "Iteration 8, inertia 959479.7210265786\n",
      "Iteration 9, inertia 958829.8407220838\n",
      "Iteration 10, inertia 958318.1987597509\n",
      "Iteration 11, inertia 957950.4550194332\n",
      "Iteration 12, inertia 957656.9914244357\n",
      "Iteration 13, inertia 957367.141093621\n",
      "Iteration 14, inertia 957074.0460149675\n",
      "Iteration 15, inertia 956787.7503891373\n",
      "Iteration 16, inertia 956388.0507906326\n",
      "Iteration 17, inertia 955785.5508064731\n",
      "Iteration 18, inertia 954950.5959862543\n",
      "Iteration 19, inertia 953950.3830428037\n",
      "Iteration 20, inertia 953168.352260543\n",
      "Iteration 21, inertia 952660.3340775382\n",
      "Iteration 22, inertia 952373.3741918713\n",
      "Iteration 23, inertia 952219.8283992395\n",
      "Iteration 24, inertia 952142.9357441235\n",
      "Iteration 25, inertia 952105.9257754928\n",
      "Iteration 26, inertia 952086.3138911136\n",
      "Iteration 27, inertia 952073.1240856636\n",
      "Iteration 28, inertia 952064.3118872636\n",
      "Iteration 29, inertia 952059.1238014663\n",
      "Iteration 30, inertia 952057.0313008144\n",
      "Converged at iteration 30: center shift 2.9456156269032688e-05 within tolerance 5.6977027746408185e-05.\n",
      "Initialization complete\n",
      "Iteration 0, inertia 1437871.8024661485\n",
      "Iteration 1, inertia 1049361.9801808426\n",
      "Iteration 2, inertia 1022092.8258708034\n",
      "Iteration 3, inertia 1008004.7532090927\n",
      "Iteration 4, inertia 997203.4116609481\n",
      "Iteration 5, inertia 988384.8270041927\n",
      "Iteration 6, inertia 981578.3352137051\n",
      "Iteration 7, inertia 976307.3588018898\n",
      "Iteration 8, inertia 971533.27082714\n",
      "Iteration 9, inertia 966459.4817997543\n",
      "Iteration 10, inertia 961057.4587347972\n",
      "Iteration 11, inertia 957102.9102308138\n",
      "Iteration 12, inertia 954871.7072132071\n",
      "Iteration 13, inertia 953619.382566227\n",
      "Iteration 14, inertia 952969.7994656377\n",
      "Iteration 15, inertia 952589.1489305337\n",
      "Iteration 16, inertia 952368.2791336261\n",
      "Iteration 17, inertia 952238.4888906472\n",
      "Iteration 18, inertia 952163.1209267416\n",
      "Iteration 19, inertia 952115.3664879559\n",
      "Iteration 20, inertia 952085.1548204215\n",
      "Iteration 21, inertia 952068.8730339897\n",
      "Iteration 22, inertia 952060.9786969849\n",
      "Iteration 23, inertia 952057.1383457538\n",
      "Converged at iteration 23: center shift 3.425928767964873e-05 within tolerance 5.6977027746408185e-05.\n"
     ]
    }
   ],
   "source": [
    "model1=KMeans(n_clusters=5,max_iter=50,verbose=1,random_state=1234).fit(train)\n",
    "# model2=BayesianGaussianMixture(n_components=5,max_iter=50,random_state=42).fit(train)\n",
    "# model3=DBSCAN(eps=4,min_samples=2).fit(train)\n"
   ]
  },
  {
   "cell_type": "code",
   "execution_count": 27,
   "id": "0f74d961",
   "metadata": {
    "execution": {
     "iopub.execute_input": "2022-07-23T05:59:52.241856Z",
     "iopub.status.busy": "2022-07-23T05:59:52.241021Z",
     "iopub.status.idle": "2022-07-23T05:59:52.408161Z",
     "shell.execute_reply": "2022-07-23T05:59:52.407086Z"
    },
    "papermill": {
     "duration": 0.188494,
     "end_time": "2022-07-23T05:59:52.410797",
     "exception": false,
     "start_time": "2022-07-23T05:59:52.222303",
     "status": "completed"
    },
    "tags": []
   },
   "outputs": [
    {
     "data": {
      "text/html": [
       "<div>\n",
       "<style scoped>\n",
       "    .dataframe tbody tr th:only-of-type {\n",
       "        vertical-align: middle;\n",
       "    }\n",
       "\n",
       "    .dataframe tbody tr th {\n",
       "        vertical-align: top;\n",
       "    }\n",
       "\n",
       "    .dataframe thead th {\n",
       "        text-align: right;\n",
       "    }\n",
       "</style>\n",
       "<table border=\"1\" class=\"dataframe\">\n",
       "  <thead>\n",
       "    <tr style=\"text-align: right;\">\n",
       "      <th></th>\n",
       "      <th>Id</th>\n",
       "      <th>Predicted</th>\n",
       "    </tr>\n",
       "  </thead>\n",
       "  <tbody>\n",
       "    <tr>\n",
       "      <th>0</th>\n",
       "      <td>0</td>\n",
       "      <td>1</td>\n",
       "    </tr>\n",
       "    <tr>\n",
       "      <th>1</th>\n",
       "      <td>1</td>\n",
       "      <td>2</td>\n",
       "    </tr>\n",
       "    <tr>\n",
       "      <th>2</th>\n",
       "      <td>2</td>\n",
       "      <td>1</td>\n",
       "    </tr>\n",
       "    <tr>\n",
       "      <th>3</th>\n",
       "      <td>3</td>\n",
       "      <td>3</td>\n",
       "    </tr>\n",
       "    <tr>\n",
       "      <th>4</th>\n",
       "      <td>4</td>\n",
       "      <td>2</td>\n",
       "    </tr>\n",
       "  </tbody>\n",
       "</table>\n",
       "</div>"
      ],
      "text/plain": [
       "   Id  Predicted\n",
       "0   0          1\n",
       "1   1          2\n",
       "2   2          1\n",
       "3   3          3\n",
       "4   4          2"
      ]
     },
     "execution_count": 27,
     "metadata": {},
     "output_type": "execute_result"
    }
   ],
   "source": [
    "submission=pd.read_csv(\"../input/tabular-playground-series-jul-2022/sample_submission.csv\")\n",
    "submission['Predicted']=model1.labels_\n",
    "submission.to_csv(\"submission.csv\",index=False)\n",
    "submission.head()\n"
   ]
  },
  {
   "cell_type": "code",
   "execution_count": null,
   "id": "4766ca5b",
   "metadata": {
    "papermill": {
     "duration": 0.016676,
     "end_time": "2022-07-23T05:59:52.444659",
     "exception": false,
     "start_time": "2022-07-23T05:59:52.427983",
     "status": "completed"
    },
    "tags": []
   },
   "outputs": [],
   "source": []
  }
 ],
 "metadata": {
  "kernelspec": {
   "display_name": "Python 3",
   "language": "python",
   "name": "python3"
  },
  "language_info": {
   "codemirror_mode": {
    "name": "ipython",
    "version": 3
   },
   "file_extension": ".py",
   "mimetype": "text/x-python",
   "name": "python",
   "nbconvert_exporter": "python",
   "pygments_lexer": "ipython3",
   "version": "3.7.12"
  },
  "papermill": {
   "default_parameters": {},
   "duration": 1137.354342,
   "end_time": "2022-07-23T05:59:55.663755",
   "environment_variables": {},
   "exception": null,
   "input_path": "__notebook__.ipynb",
   "output_path": "__notebook__.ipynb",
   "parameters": {},
   "start_time": "2022-07-23T05:40:58.309413",
   "version": "2.3.4"
  }
 },
 "nbformat": 4,
 "nbformat_minor": 5
}
